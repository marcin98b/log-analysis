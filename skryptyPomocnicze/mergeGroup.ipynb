{
 "cells": [
  {
   "cell_type": "code",
   "execution_count": 1,
   "outputs": [],
   "source": [
    "from merge import merge_group"
   ],
   "metadata": {
    "collapsed": false,
    "pycharm": {
     "name": "#%%\n"
    }
   }
  },
  {
   "cell_type": "code",
   "execution_count": 2,
   "outputs": [
    {
     "name": "stdout",
     "output_type": "stream",
     "text": [
      "Zapisywanie pliku methods.csv...\n",
      "Zapisywanie pliku stock.csv...\n",
      "Zapisywanie pliku trading.csv...\n",
      "Zapisywanie pliku traffic.csv...\n",
      "Zapisywanie pliku merged.csv...\n",
      "Zapisywanie pliku merged2.csv...\n",
      "Grupa replGroup została utworzona!\n",
      "Zapisywanie pliku methods.csv...\n",
      "Zapisywanie pliku stock.csv...\n",
      "Zapisywanie pliku trading.csv...\n",
      "Zapisywanie pliku traffic.csv...\n",
      "Zapisywanie pliku merged.csv...\n",
      "Zapisywanie pliku merged2.csv...\n",
      "Grupa testAlgGroup została utworzona!\n",
      "Zapisywanie pliku methods.csv...\n",
      "Zapisywanie pliku stock.csv...\n",
      "Zapisywanie pliku trading.csv...\n",
      "Zapisywanie pliku traffic.csv...\n",
      "Zapisywanie pliku merged.csv...\n",
      "Zapisywanie pliku merged2.csv...\n",
      "Grupa reqGroup została utworzona!\n",
      "Zapisywanie pliku methods.csv...\n",
      "Zapisywanie pliku stock.csv...\n",
      "Zapisywanie pliku trading.csv...\n",
      "Zapisywanie pliku traffic.csv...\n",
      "Zapisywanie pliku merged.csv...\n",
      "Zapisywanie pliku merged2.csv...\n",
      "Grupa transGroup została utworzona!\n",
      "Zapisywanie pliku methods.csv...\n",
      "Zapisywanie pliku stock.csv...\n",
      "Zapisywanie pliku trading.csv...\n",
      "Zapisywanie pliku traffic.csv...\n",
      "Zapisywanie pliku merged.csv...\n",
      "Zapisywanie pliku merged2.csv...\n",
      "Grupa allGroup została utworzona!\n"
     ]
    }
   ],
   "source": [
    "#Ścieżka do testów\n",
    "testPath = '../8CPU_20RAM/3600s'\n",
    "\n",
    "# Zdefiniowane grupy\n",
    "replGroup = ['2repl', '4repl', '5repl', '6repl']\n",
    "testAlgGroup = ['A1_100-A2_100-A3_100', 'A1_200-A3_100', 'A2_200', 'A2_200-A3_100', 'A3_200']\n",
    "reqGroup = ['req_250ms', 'req_500ms', 'req_1000ms', 'req_2000ms']\n",
    "transGroup = ['trans_60s', 'trans_120s', 'trans_180s', 'trans_240s', 'trans_300s']\n",
    "allGroup = ['replGroup', 'testAlgGroup', 'reqGroup', 'transGroup']\n",
    "\n",
    "#Uruchomienie procesu tworzenia grup, na końcu tworzymy zbiór wszystkich testów\n",
    "\n",
    "\n",
    "merge_group('replGroup', replGroup, testPath)\n",
    "merge_group('testAlgGroup', testAlgGroup, testPath)\n",
    "merge_group('reqGroup', reqGroup, testPath)\n",
    "merge_group('transGroup', transGroup, testPath)\n",
    "merge_group('allGroup', allGroup, testPath)"
   ],
   "metadata": {
    "collapsed": false,
    "pycharm": {
     "name": "#%%\n"
    }
   }
  },
  {
   "cell_type": "code",
   "execution_count": null,
   "outputs": [],
   "source": [],
   "metadata": {
    "collapsed": false,
    "pycharm": {
     "name": "#%%\n"
    }
   }
  }
 ],
 "metadata": {
  "kernelspec": {
   "display_name": "Python 3",
   "language": "python",
   "name": "python3"
  },
  "language_info": {
   "codemirror_mode": {
    "name": "ipython",
    "version": 2
   },
   "file_extension": ".py",
   "mimetype": "text/x-python",
   "name": "python",
   "nbconvert_exporter": "python",
   "pygments_lexer": "ipython2",
   "version": "2.7.6"
  }
 },
 "nbformat": 4,
 "nbformat_minor": 0
}