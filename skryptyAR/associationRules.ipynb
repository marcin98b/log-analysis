{
 "cells": [
  {
   "cell_type": "code",
   "execution_count": 11,
   "metadata": {
    "pycharm": {
     "name": "#%%\n"
    }
   },
   "outputs": [],
   "source": [
    "import pandas as pd\n",
    "import numpy as np\n",
    "\n",
    "from sklearn.preprocessing import KBinsDiscretizer\n",
    "from mlxtend.frequent_patterns import apriori, association_rules"
   ]
  },
  {
   "cell_type": "code",
   "execution_count": 12,
   "outputs": [],
   "source": [
    "n_bins = 2\n",
    "support = 0.25"
   ],
   "metadata": {
    "collapsed": false,
    "pycharm": {
     "name": "#%%\n"
    }
   }
  },
  {
   "cell_type": "code",
   "execution_count": 13,
   "outputs": [
    {
     "name": "stdout",
     "output_type": "stream",
     "text": [
      "Data shape: (475929, 14)\n",
      "   apiTime  applicationTime  databaseTime  endpointUrl  queueSizeForward  \\\n",
      "0      480              243           101            0                 0   \n",
      "1      494              257           108            0                 0   \n",
      "2      472              244           106            0                 0   \n",
      "3      483              240            93            0                 0   \n",
      "4      482              239           102            0                 0   \n",
      "\n",
      "   queueSizeBack  st_cpuUsage  st_memoryUsage  trad_applicationTime  \\\n",
      "0              0         0.43            0.65                 15850   \n",
      "1              0         0.43            0.65                 15850   \n",
      "2              0         0.43            0.65                 15850   \n",
      "3              0         0.43            0.65                 15850   \n",
      "4              0         0.43            0.65                 15850   \n",
      "\n",
      "   trad_databaseTime  trad_numberOfSellOffers  trad_numberOfBuyOffers  \\\n",
      "0              13722                      272                    1208   \n",
      "1              13722                      272                    1208   \n",
      "2              13722                      272                    1208   \n",
      "3              13722                      272                    1208   \n",
      "4              13722                      272                    1208   \n",
      "\n",
      "   traf_cpuUsage  traf_memoryUsage  \n",
      "0           0.09              0.81  \n",
      "1           0.09              0.81  \n",
      "2           0.09              0.81  \n",
      "3           0.09              0.81  \n",
      "4           0.09              0.81  \n"
     ]
    }
   ],
   "source": [
    "### Wczytanie pliku:\n",
    "path = \"../12CPU_30RAM/3600s/A1_100-A2_100-A3_100/merged.csv\"\n",
    "df = pd.read_csv(path).dropna(inplace=False)\n",
    "\n",
    "#korekcja kolumn:\n",
    "#merge.csv\n",
    "if not \"merge\" in path:\n",
    "    df = df.iloc[:,1:]\n",
    "else:\n",
    "    df = df.iloc[:,2:]\n",
    "\n",
    "#methods.csv\n",
    "if \"methods\" in path:\n",
    "    endpoint_map = {\n",
    "        'do-register': 0,\n",
    "        'add-sell-offer': 1,\n",
    "        'add-buy-offer': 2,\n",
    "        'get-stock-data': 3,\n",
    "        'add-company': 4,\n",
    "        'get-stock-users-and-companies': 5\n",
    "\n",
    "    }\n",
    "    # zastosowanie mapowania na kolumnę endpointUrl\n",
    "    df['endpointUrl'] = df['endpointUrl'].replace(endpoint_map)\n",
    "\n",
    "    #\n",
    "if 'replicaId' in df.columns:\n",
    "    df['replicaId'] = pd.factorize(df['replicaId'])[0]\n",
    "\n",
    "#zaokrąglij dane procentowe zużycia do dwóch miejsc po przecinku\n",
    "cols_to_round = [col for col in df.columns if 'memoryUsage' in col or 'cpuUsage' in col]\n",
    "if cols_to_round:\n",
    "    df[cols_to_round] = df[cols_to_round].round(2)\n",
    "\n",
    "\n",
    "#df = df.drop([\"applicationTime\", \"databaseTime\", \"queueSizeForward\", \"trad_databaseTime\", \"trad_applicationTime\"], axis=1)\n",
    "#unique_endpoints = df['endpointUrl'].unique()\n",
    "#print(unique_endpoints)\n",
    "\n",
    "\n",
    "print('Data shape:', df.shape)\n",
    "print(df.head())\n"
   ],
   "metadata": {
    "collapsed": false,
    "pycharm": {
     "name": "#%%\n"
    }
   }
  },
  {
   "cell_type": "code",
   "execution_count": 14,
   "outputs": [
    {
     "data": {
      "text/plain": "                                           antecedents  \\\n13                          (st_cpuUsage: 0.59 - 0.62)   \n14                        (traf_cpuUsage: 0.59 - 0.62)   \n8                          (databaseTime: 4.0 - 807.0)   \n9                       (applicationTime: 4.0 - 809.0)   \n18         (trad_applicationTime: 164089.0 - 235789.0)   \n..                                                 ...   \n329  (apiTime: 29708.0 - 58387.0, databaseTime: 4.0...   \n330  (apiTime: 29708.0 - 58387.0, applicationTime: ...   \n331  (databaseTime: 4.0 - 807.0, queueSizeBack: 583...   \n332  (queueSizeBack: 5838.0 - 13407.0, applicationT...   \n327  (apiTime: 29708.0 - 58387.0, applicationTime: ...   \n\n                                           consequents  antecedent support  \\\n13                        (traf_cpuUsage: 0.59 - 0.62)            0.610486   \n14                          (st_cpuUsage: 0.59 - 0.62)            0.729769   \n8                       (applicationTime: 4.0 - 809.0)            0.568642   \n9                          (databaseTime: 4.0 - 807.0)            0.602705   \n18            (trad_databaseTime: 152719.0 - 219526.0)            0.532096   \n..                                                 ...                 ...   \n329  (queueSizeBack: 5838.0 - 13407.0, applicationT...            0.255263   \n330  (databaseTime: 4.0 - 807.0, queueSizeBack: 583...            0.272547   \n331  (apiTime: 29708.0 - 58387.0, applicationTime: ...            0.253945   \n332  (apiTime: 29708.0 - 58387.0, databaseTime: 4.0...            0.271364   \n327                        (databaseTime: 4.0 - 807.0)            0.268385   \n\n     consequent support   support  confidence      lift  leverage  conviction  \n13             0.729769  0.601833    0.985827  1.350876  0.156320   19.066347  \n14             0.610486  0.601833    0.824691  1.350876  0.156320    2.221870  \n8              0.602705  0.568642    1.000000  1.659185  0.225918         inf  \n9              0.568642  0.568642    0.943482  1.659185  0.225918    7.632187  \n18             0.532096  0.532096    1.000000  1.879360  0.248970         inf  \n..                  ...       ...         ...       ...       ...         ...  \n329            0.271364  0.251210    0.984122  3.626574  0.181941   45.888959  \n330            0.253945  0.251210    0.921712  3.629566  0.181998    9.529589  \n331            0.272547  0.251210    0.989227  3.629566  0.181998   67.526862  \n332            0.255263  0.251210    0.925730  3.626574  0.181941   10.027398  \n327            0.568642  0.251210    0.936007  1.646040  0.098595    6.740675  \n\n[1068 rows x 9 columns]",
      "text/html": "<div>\n<style scoped>\n    .dataframe tbody tr th:only-of-type {\n        vertical-align: middle;\n    }\n\n    .dataframe tbody tr th {\n        vertical-align: top;\n    }\n\n    .dataframe thead th {\n        text-align: right;\n    }\n</style>\n<table border=\"1\" class=\"dataframe\">\n  <thead>\n    <tr style=\"text-align: right;\">\n      <th></th>\n      <th>antecedents</th>\n      <th>consequents</th>\n      <th>antecedent support</th>\n      <th>consequent support</th>\n      <th>support</th>\n      <th>confidence</th>\n      <th>lift</th>\n      <th>leverage</th>\n      <th>conviction</th>\n    </tr>\n  </thead>\n  <tbody>\n    <tr>\n      <th>13</th>\n      <td>(st_cpuUsage: 0.59 - 0.62)</td>\n      <td>(traf_cpuUsage: 0.59 - 0.62)</td>\n      <td>0.610486</td>\n      <td>0.729769</td>\n      <td>0.601833</td>\n      <td>0.985827</td>\n      <td>1.350876</td>\n      <td>0.156320</td>\n      <td>19.066347</td>\n    </tr>\n    <tr>\n      <th>14</th>\n      <td>(traf_cpuUsage: 0.59 - 0.62)</td>\n      <td>(st_cpuUsage: 0.59 - 0.62)</td>\n      <td>0.729769</td>\n      <td>0.610486</td>\n      <td>0.601833</td>\n      <td>0.824691</td>\n      <td>1.350876</td>\n      <td>0.156320</td>\n      <td>2.221870</td>\n    </tr>\n    <tr>\n      <th>8</th>\n      <td>(databaseTime: 4.0 - 807.0)</td>\n      <td>(applicationTime: 4.0 - 809.0)</td>\n      <td>0.568642</td>\n      <td>0.602705</td>\n      <td>0.568642</td>\n      <td>1.000000</td>\n      <td>1.659185</td>\n      <td>0.225918</td>\n      <td>inf</td>\n    </tr>\n    <tr>\n      <th>9</th>\n      <td>(applicationTime: 4.0 - 809.0)</td>\n      <td>(databaseTime: 4.0 - 807.0)</td>\n      <td>0.602705</td>\n      <td>0.568642</td>\n      <td>0.568642</td>\n      <td>0.943482</td>\n      <td>1.659185</td>\n      <td>0.225918</td>\n      <td>7.632187</td>\n    </tr>\n    <tr>\n      <th>18</th>\n      <td>(trad_applicationTime: 164089.0 - 235789.0)</td>\n      <td>(trad_databaseTime: 152719.0 - 219526.0)</td>\n      <td>0.532096</td>\n      <td>0.532096</td>\n      <td>0.532096</td>\n      <td>1.000000</td>\n      <td>1.879360</td>\n      <td>0.248970</td>\n      <td>inf</td>\n    </tr>\n    <tr>\n      <th>...</th>\n      <td>...</td>\n      <td>...</td>\n      <td>...</td>\n      <td>...</td>\n      <td>...</td>\n      <td>...</td>\n      <td>...</td>\n      <td>...</td>\n      <td>...</td>\n    </tr>\n    <tr>\n      <th>329</th>\n      <td>(apiTime: 29708.0 - 58387.0, databaseTime: 4.0...</td>\n      <td>(queueSizeBack: 5838.0 - 13407.0, applicationT...</td>\n      <td>0.255263</td>\n      <td>0.271364</td>\n      <td>0.251210</td>\n      <td>0.984122</td>\n      <td>3.626574</td>\n      <td>0.181941</td>\n      <td>45.888959</td>\n    </tr>\n    <tr>\n      <th>330</th>\n      <td>(apiTime: 29708.0 - 58387.0, applicationTime: ...</td>\n      <td>(databaseTime: 4.0 - 807.0, queueSizeBack: 583...</td>\n      <td>0.272547</td>\n      <td>0.253945</td>\n      <td>0.251210</td>\n      <td>0.921712</td>\n      <td>3.629566</td>\n      <td>0.181998</td>\n      <td>9.529589</td>\n    </tr>\n    <tr>\n      <th>331</th>\n      <td>(databaseTime: 4.0 - 807.0, queueSizeBack: 583...</td>\n      <td>(apiTime: 29708.0 - 58387.0, applicationTime: ...</td>\n      <td>0.253945</td>\n      <td>0.272547</td>\n      <td>0.251210</td>\n      <td>0.989227</td>\n      <td>3.629566</td>\n      <td>0.181998</td>\n      <td>67.526862</td>\n    </tr>\n    <tr>\n      <th>332</th>\n      <td>(queueSizeBack: 5838.0 - 13407.0, applicationT...</td>\n      <td>(apiTime: 29708.0 - 58387.0, databaseTime: 4.0...</td>\n      <td>0.271364</td>\n      <td>0.255263</td>\n      <td>0.251210</td>\n      <td>0.925730</td>\n      <td>3.626574</td>\n      <td>0.181941</td>\n      <td>10.027398</td>\n    </tr>\n    <tr>\n      <th>327</th>\n      <td>(apiTime: 29708.0 - 58387.0, applicationTime: ...</td>\n      <td>(databaseTime: 4.0 - 807.0)</td>\n      <td>0.268385</td>\n      <td>0.568642</td>\n      <td>0.251210</td>\n      <td>0.936007</td>\n      <td>1.646040</td>\n      <td>0.098595</td>\n      <td>6.740675</td>\n    </tr>\n  </tbody>\n</table>\n<p>1068 rows × 9 columns</p>\n</div>"
     },
     "execution_count": 14,
     "metadata": {},
     "output_type": "execute_result"
    }
   ],
   "source": [
    "### Dyskretyzacja ciągłych wartości w danych:\n",
    "### Podział każdej z cechy na zbiory o takiej samej liczbie punktów (strategy - quantile)\n",
    "transformer = KBinsDiscretizer(encode='onehot-dense', n_bins=n_bins)\n",
    "df_discret = pd.DataFrame(transformer.fit_transform(df).astype(np.int8))\n",
    "\n",
    "### Utworzenie nowych nazw cech uwzględniających podział otrzymany przy dyskretyzacji:\n",
    "new_col_names = []\n",
    "\n",
    "for idx, lst in enumerate(transformer.bin_edges_):\n",
    "    for i in range(len(lst) - 1):\n",
    "        new_col_names.append(df.columns[idx] + \": \" + str(round(lst[i], 4)) + \" - \" + str(round(lst[i+1], 4)))\n",
    "df_discret.columns = new_col_names\n",
    "\n",
    "### Wyrzucenie zdyskretyzowanych cech o zerowej wariancji:\n",
    "df_discret = df_discret.loc[:, df_discret.var() > 0]\n",
    "\n",
    "###\n",
    "association_rules(apriori(df_discret, min_support=support, use_colnames=True)).sort_values(by='support', ascending=False)"
   ],
   "metadata": {
    "collapsed": false,
    "pycharm": {
     "name": "#%%\n"
    }
   }
  },
  {
   "cell_type": "code",
   "execution_count": null,
   "outputs": [],
   "source": [],
   "metadata": {
    "collapsed": false,
    "pycharm": {
     "name": "#%%\n"
    }
   }
  }
 ],
 "metadata": {
  "kernelspec": {
   "display_name": "Python 3 (ipykernel)",
   "language": "python",
   "name": "python3"
  },
  "language_info": {
   "codemirror_mode": {
    "name": "ipython",
    "version": 3
   },
   "file_extension": ".py",
   "mimetype": "text/x-python",
   "name": "python",
   "nbconvert_exporter": "python",
   "pygments_lexer": "ipython3",
   "version": "3.9.12"
  }
 },
 "nbformat": 4,
 "nbformat_minor": 1
}