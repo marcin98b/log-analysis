{
 "cells": [
  {
   "cell_type": "markdown",
   "source": [
    "Import libraries"
   ],
   "metadata": {
    "collapsed": false,
    "pycharm": {
     "name": "#%% md\n"
    }
   }
  },
  {
   "cell_type": "code",
   "execution_count": 76,
   "metadata": {
    "collapsed": true,
    "pycharm": {
     "name": "#%%\n"
    }
   },
   "outputs": [],
   "source": [
    "import pandas as pd\n",
    "import matplotlib.pyplot as plt\n",
    "import numpy as np\n",
    "import graphviz\n",
    "\n",
    "from timeit import default_timer as timer\n",
    "from datetime import timedelta\n",
    "\n",
    "from sklearn.model_selection import train_test_split\n",
    "from sklearn.tree import DecisionTreeRegressor\n",
    "from sklearn.metrics import mean_squared_error\n",
    "\n",
    "from sklearn.tree import export_graphviz\n",
    "from holoviews.ipython import display"
   ]
  },
  {
   "cell_type": "markdown",
   "source": [
    "Train data (longer)"
   ],
   "metadata": {
    "collapsed": false,
    "pycharm": {
     "name": "#%% md\n"
    }
   }
  },
  {
   "cell_type": "code",
   "execution_count": 77,
   "metadata": {
    "pycharm": {
     "name": "#%%\n"
    }
   },
   "outputs": [
    {
     "name": "stdout",
     "output_type": "stream",
     "text": [
      "<class 'pandas.core.frame.DataFrame'>\n",
      "RangeIndex: 44937168 entries, 0 to 44937167\n",
      "Data columns (total 14 columns):\n",
      " #   Column                   Dtype  \n",
      "---  ------                   -----  \n",
      " 0   apiTime                  int64  \n",
      " 1   applicationTime          int64  \n",
      " 2   databaseTime             int64  \n",
      " 3   endpointUrl              int64  \n",
      " 4   queueSizeForward         int64  \n",
      " 5   queueSizeBack            int64  \n",
      " 6   st_cpuUsage              float64\n",
      " 7   st_memoryUsage           float64\n",
      " 8   trad_applicationTime     int64  \n",
      " 9   trad_databaseTime        int64  \n",
      " 10  trad_numberOfSellOffers  int64  \n",
      " 11  trad_numberOfBuyOffers   int64  \n",
      " 12  traf_cpuUsage            float64\n",
      " 13  traf_memoryUsage         float64\n",
      "dtypes: float64(4), int64(10)\n",
      "memory usage: 4.7 GB\n",
      "   apiTime  applicationTime  databaseTime  endpointUrl  queueSizeForward  \\\n",
      "0      485              244           102            0                 0   \n",
      "1      506              262           120            0                 0   \n",
      "2      506              137             7            0                 0   \n",
      "3      505              130             5            0                 0   \n",
      "4      558              134             5            0                 0   \n",
      "\n",
      "   queueSizeBack  st_cpuUsage  st_memoryUsage  trad_applicationTime  \\\n",
      "0              0         0.54            0.27                 11825   \n",
      "1              0         0.54            0.27                 11825   \n",
      "2              0         0.54            0.27                 11825   \n",
      "3              0         0.54            0.27                 11825   \n",
      "4              0         0.54            0.27                 11825   \n",
      "\n",
      "   trad_databaseTime  trad_numberOfSellOffers  trad_numberOfBuyOffers  \\\n",
      "0               9940                       53                     926   \n",
      "1               9940                       53                     926   \n",
      "2               9940                       53                     926   \n",
      "3               9940                       53                     926   \n",
      "4               9940                       53                     926   \n",
      "\n",
      "   traf_cpuUsage  traf_memoryUsage  \n",
      "0           0.07              0.61  \n",
      "1           0.07              0.61  \n",
      "2           0.07              0.61  \n",
      "3           0.07              0.61  \n",
      "4           0.07              0.61  \n"
     ]
    }
   ],
   "source": [
    "path = \"../12CPU_30RAM/43200s/allGroup/merged.csv\"\n",
    "df = pd.read_csv(path).dropna(inplace=False)\n",
    "\n",
    "df = df.iloc[:,1:]\n",
    "\n",
    "#single merge file (not grouped)\n",
    "#df = df.iloc[:,2:]\n",
    "\n",
    "#methods.csv\n",
    "if \"methods\" in path:\n",
    "    endpoint_map = {\n",
    "        'do-register': 0,\n",
    "        'add-sell-offer': 1,\n",
    "        'add-buy-offer': 2,\n",
    "        'get-stock-data': 3,\n",
    "        'add-company': 4,\n",
    "        'get-stock-users-and-companies': 5\n",
    "\n",
    "    }\n",
    "    # zastosowanie mapowania na kolumnę endpointUrl\n",
    "    df['endpointUrl'] = df['endpointUrl'].replace(endpoint_map)\n",
    "\n",
    "\n",
    "if 'replicaId' in df.columns:\n",
    "    df['replicaId'] = pd.factorize(df['replicaId'])[0]\n",
    "\n",
    "# zaokrąglij dane procentowe zużycia do dwóch miejsc po przecinku\n",
    "cols_to_round = [col for col in df.columns if 'memoryUsage' in col or 'cpuUsage' in col]\n",
    "if cols_to_round:\n",
    "    df[cols_to_round] = df[cols_to_round].round(2)\n",
    "\n",
    "df.info()\n",
    "print(df.head())\n",
    "\n",
    "#stock,trading\n",
    "\n",
    "#methods: timestamp,apiTime,applicationTime,databaseTime,endpointUrl,queueSizeForward,queueSizeBack,replicaId\n",
    "#stock : timestamp,cpuUsage,memoryUsage,replicaId\n",
    "#trading: timestamp,applicationTime,databaseTime,numberOfSellOffers,numberOfBuyOffers,replicaId\n",
    "#traffic: timestamp,cpuUsage,memoryUsage\n",
    "#merged: ,timestamp,apiTime,applicationTime,databaseTime,endpointUrl,queueSizeForward,queueSizeBack,st_cpuUsage,st_memoryUsage,trad_applicationTime,trad_databaseTime,trad_numberOfSellOffers,trad_numberOfBuyOffers,traf_cpuUsage,traf_memoryUsage\n",
    "\n",
    "#df.loc[:,[3, 5]]\n",
    "\n",
    "#X = df.drop([\"apiTime\", \"endpointUrl\", \"applicationTime\", \"databaseTime\", \"replicaId\"], axis=1);\n",
    "#X = df.filter([\"queueSizeBack\", \"trad_numberOfBuyOffers\", \"trad_numberOfSellOffers\"])\n",
    "X_train = df.drop([\"endpointUrl\"], axis=1)\n",
    "Y_train = df['endpointUrl'];\n"
   ]
  },
  {
   "cell_type": "markdown",
   "source": [
    "Test data (shorter)"
   ],
   "metadata": {
    "collapsed": false,
    "pycharm": {
     "name": "#%% md\n"
    }
   }
  },
  {
   "cell_type": "code",
   "execution_count": 91,
   "outputs": [
    {
     "name": "stdout",
     "output_type": "stream",
     "text": [
      "<class 'pandas.core.frame.DataFrame'>\n",
      "RangeIndex: 36956109 entries, 0 to 36956108\n",
      "Data columns (total 14 columns):\n",
      " #   Column                   Dtype  \n",
      "---  ------                   -----  \n",
      " 0   apiTime                  int64  \n",
      " 1   applicationTime          int64  \n",
      " 2   databaseTime             int64  \n",
      " 3   endpointUrl              int64  \n",
      " 4   queueSizeForward         int64  \n",
      " 5   queueSizeBack            int64  \n",
      " 6   st_cpuUsage              float64\n",
      " 7   st_memoryUsage           float64\n",
      " 8   trad_applicationTime     int64  \n",
      " 9   trad_databaseTime        int64  \n",
      " 10  trad_numberOfSellOffers  int64  \n",
      " 11  trad_numberOfBuyOffers   int64  \n",
      " 12  traf_cpuUsage            float64\n",
      " 13  traf_memoryUsage         float64\n",
      "dtypes: float64(4), int64(10)\n",
      "memory usage: 3.9 GB\n",
      "   apiTime  applicationTime  databaseTime  endpointUrl  queueSizeForward  \\\n",
      "0      434              243            98            0                 0   \n",
      "1      441              240            90            0                 0   \n",
      "2      442              132             6            0                 0   \n",
      "3      461              136             6            0                 0   \n",
      "4      546              131             5            0                 0   \n",
      "\n",
      "   queueSizeBack  st_cpuUsage  st_memoryUsage  trad_applicationTime  \\\n",
      "0              0          0.4            0.83                 13339   \n",
      "1              0          0.4            0.83                 13339   \n",
      "2              0          0.4            0.83                 13339   \n",
      "3              0          0.4            0.83                 13339   \n",
      "4              0          0.4            0.83                 13339   \n",
      "\n",
      "   trad_databaseTime  trad_numberOfSellOffers  trad_numberOfBuyOffers  \\\n",
      "0              11215                       53                    1079   \n",
      "1              11215                       53                    1079   \n",
      "2              11215                       53                    1079   \n",
      "3              11215                       53                    1079   \n",
      "4              11215                       53                    1079   \n",
      "\n",
      "   traf_cpuUsage  traf_memoryUsage  \n",
      "0           0.08               0.8  \n",
      "1           0.08               0.8  \n",
      "2           0.08               0.8  \n",
      "3           0.08               0.8  \n",
      "4           0.08               0.8  \n"
     ]
    }
   ],
   "source": [
    "path = \"../12CPU_30RAM/32400s/allGroup/merged.csv\"\n",
    "df = pd.read_csv(path).dropna(inplace=False)\n",
    "\n",
    "df = df.iloc[:,1:]\n",
    "\n",
    "#single merge file (not grouped)\n",
    "#df = df.iloc[:,2:]\n",
    "\n",
    "#methods.csv\n",
    "if \"methods\" in path:\n",
    "    endpoint_map = {\n",
    "        'do-register': 0,\n",
    "        'add-sell-offer': 1,\n",
    "        'add-buy-offer': 2,\n",
    "        'get-stock-data': 3,\n",
    "        'add-company': 4,\n",
    "        'get-stock-users-and-companies': 5\n",
    "\n",
    "    }\n",
    "    # zastosowanie mapowania na kolumnę endpointUrl\n",
    "    df['endpointUrl'] = df['endpointUrl'].replace(endpoint_map)\n",
    "\n",
    "\n",
    "if 'replicaId' in df.columns:\n",
    "    df['replicaId'] = pd.factorize(df['replicaId'])[0]\n",
    "\n",
    "# zaokrąglij dane procentowe zużycia do dwóch miejsc po przecinku\n",
    "cols_to_round = [col for col in df.columns if 'memoryUsage' in col or 'cpuUsage' in col]\n",
    "if cols_to_round:\n",
    "    df[cols_to_round] = df[cols_to_round].round(2)\n",
    "\n",
    "df.info()\n",
    "print(df.head())\n",
    "\n",
    "#stock,trading\n",
    "\n",
    "#methods: timestamp,apiTime,applicationTime,databaseTime,endpointUrl,queueSizeForward,queueSizeBack,replicaId\n",
    "#stock : timestamp,cpuUsage,memoryUsage,replicaId\n",
    "#trading: timestamp,applicationTime,databaseTime,numberOfSellOffers,numberOfBuyOffers,replicaId\n",
    "#traffic: timestamp,cpuUsage,memoryUsage\n",
    "#merged: ,timestamp,apiTime,applicationTime,databaseTime,endpointUrl,queueSizeForward,queueSizeBack,st_cpuUsage,st_memoryUsage,trad_applicationTime,trad_databaseTime,trad_numberOfSellOffers,trad_numberOfBuyOffers,traf_cpuUsage,traf_memoryUsage\n",
    "\n",
    "#df.loc[:,[3, 5]]\n",
    "\n",
    "#X = df.drop([\"apiTime\", \"endpointUrl\", \"applicationTime\", \"databaseTime\", \"replicaId\"], axis=1);\n",
    "#X = df.filter([\"queueSizeBack\", \"trad_numberOfBuyOffers\", \"trad_numberOfSellOffers\"])\n",
    "X_test = df.drop([\"endpointUrl\"], axis=1)\n",
    "Y_test = df['endpointUrl'];\n"
   ],
   "metadata": {
    "collapsed": false,
    "pycharm": {
     "name": "#%%\n"
    }
   }
  },
  {
   "cell_type": "markdown",
   "source": [
    "Definition of model"
   ],
   "metadata": {
    "collapsed": false,
    "pycharm": {
     "name": "#%% md\n"
    }
   }
  },
  {
   "cell_type": "code",
   "execution_count": 79,
   "metadata": {
    "pycharm": {
     "name": "#%%\n"
    }
   },
   "outputs": [
    {
     "name": "stdout",
     "output_type": "stream",
     "text": [
      "0:07:47.025278\n"
     ]
    }
   ],
   "source": [
    "#split test - use for only one csv\n",
    "#X_train, X_test, Y_train, Y_test = train_test_split(X, Y, test_size=0.3, random_state=44)\n",
    "\n",
    "start = timer()\n",
    "\n",
    "model = DecisionTreeRegressor()\n",
    "model.fit(X_train, Y_train)\n",
    "\n",
    "end = timer()\n",
    "print(timedelta(seconds=end-start))"
   ]
  },
  {
   "cell_type": "code",
   "execution_count": 92,
   "outputs": [
    {
     "name": "stdout",
     "output_type": "stream",
     "text": [
      "[5. 5. 3. ... 2. 5. 2.]\n"
     ]
    }
   ],
   "source": [
    "predictions = model.predict(X_test)\n",
    "print(predictions)"
   ],
   "metadata": {
    "collapsed": false,
    "pycharm": {
     "name": "#%%\n"
    }
   }
  },
  {
   "cell_type": "code",
   "execution_count": 93,
   "metadata": {
    "pycharm": {
     "name": "#%%\n"
    }
   },
   "outputs": [
    {
     "name": "stdout",
     "output_type": "stream",
     "text": [
      "   apiTime  applicationTime  databaseTime  queueSizeForward  queueSizeBack  \\\n",
      "0      434              243            98                 0              0   \n",
      "1      441              240            90                 0              0   \n",
      "2      442              132             6                 0              0   \n",
      "3      461              136             6                 0              0   \n",
      "4      546              131             5                 0              0   \n",
      "\n",
      "   st_cpuUsage  st_memoryUsage  trad_applicationTime  trad_databaseTime  \\\n",
      "0          0.4            0.83                 13339              11215   \n",
      "1          0.4            0.83                 13339              11215   \n",
      "2          0.4            0.83                 13339              11215   \n",
      "3          0.4            0.83                 13339              11215   \n",
      "4          0.4            0.83                 13339              11215   \n",
      "\n",
      "   trad_numberOfSellOffers  trad_numberOfBuyOffers  traf_cpuUsage  \\\n",
      "0                       53                    1079           0.08   \n",
      "1                       53                    1079           0.08   \n",
      "2                       53                    1079           0.08   \n",
      "3                       53                    1079           0.08   \n",
      "4                       53                    1079           0.08   \n",
      "\n",
      "   traf_memoryUsage  \n",
      "0               0.8  \n",
      "1               0.8  \n",
      "2               0.8  \n",
      "3               0.8  \n",
      "4               0.8  \n"
     ]
    }
   ],
   "source": [
    "print(X_test.head())"
   ]
  },
  {
   "cell_type": "markdown",
   "source": [
    "Calculating accuracy of prediction"
   ],
   "metadata": {
    "collapsed": false,
    "pycharm": {
     "name": "#%% md\n"
    }
   }
  },
  {
   "cell_type": "code",
   "execution_count": 94,
   "metadata": {
    "pycharm": {
     "name": "#%%\n"
    }
   },
   "outputs": [
    {
     "data": {
      "text/plain": "0.3702"
     },
     "execution_count": 94,
     "metadata": {},
     "output_type": "execute_result"
    }
   ],
   "source": [
    "model_Y_predicted = model.predict(X_test)\n",
    "model_RMSE = np.sqrt(mean_squared_error(Y_test, model_Y_predicted))\n",
    "round(model_RMSE, 4)"
   ]
  },
  {
   "cell_type": "markdown",
   "source": [],
   "metadata": {
    "collapsed": false,
    "pycharm": {
     "name": "#%% md\n"
    }
   }
  },
  {
   "cell_type": "markdown",
   "source": [
    "Tree graph draw"
   ],
   "metadata": {
    "collapsed": false,
    "pycharm": {
     "name": "#%% md\n"
    }
   }
  },
  {
   "cell_type": "code",
   "execution_count": 8,
   "outputs": [
    {
     "data": {
      "image/svg+xml": "<?xml version=\"1.0\" encoding=\"UTF-8\" standalone=\"no\"?>\n<!DOCTYPE svg PUBLIC \"-//W3C//DTD SVG 1.1//EN\"\n \"http://www.w3.org/Graphics/SVG/1.1/DTD/svg11.dtd\">\n<!-- Generated by graphviz version 2.50.0 (0)\n -->\n<!-- Title: Tree Pages: 1 -->\n<svg width=\"1529pt\" height=\"400pt\"\n viewBox=\"0.00 0.00 1528.50 400.00\" xmlns=\"http://www.w3.org/2000/svg\" xmlns:xlink=\"http://www.w3.org/1999/xlink\">\n<g id=\"graph0\" class=\"graph\" transform=\"scale(1 1) rotate(0) translate(4 396)\">\n<title>Tree</title>\n<polygon fill=\"white\" stroke=\"transparent\" points=\"-4,4 -4,-396 1524.5,-396 1524.5,4 -4,4\"/>\n<!-- 0 -->\n<g id=\"node1\" class=\"node\">\n<title>0</title>\n<polygon fill=\"#f3c5a3\" stroke=\"black\" points=\"737,-392 584,-392 584,-339 737,-339 737,-392\"/>\n<text text-anchor=\"middle\" x=\"660.5\" y=\"-376.8\" font-family=\"Helvetica,sans-Serif\" font-size=\"14.00\">databaseTime &lt;= 36.5</text>\n<text text-anchor=\"middle\" x=\"660.5\" y=\"-361.8\" font-family=\"Helvetica,sans-Serif\" font-size=\"14.00\">samples = 100.0%</text>\n<text text-anchor=\"middle\" x=\"660.5\" y=\"-346.8\" font-family=\"Helvetica,sans-Serif\" font-size=\"14.00\">value = 2.312</text>\n</g>\n<!-- 1 -->\n<g id=\"node2\" class=\"node\">\n<title>1</title>\n<polygon fill=\"#f4cbae\" stroke=\"black\" points=\"567,-303 368,-303 368,-250 567,-250 567,-303\"/>\n<text text-anchor=\"middle\" x=\"467.5\" y=\"-287.8\" font-family=\"Helvetica,sans-Serif\" font-size=\"14.00\">trad_databaseTime &lt;= 1421.0</text>\n<text text-anchor=\"middle\" x=\"467.5\" y=\"-272.8\" font-family=\"Helvetica,sans-Serif\" font-size=\"14.00\">samples = 91.0%</text>\n<text text-anchor=\"middle\" x=\"467.5\" y=\"-257.8\" font-family=\"Helvetica,sans-Serif\" font-size=\"14.00\">value = 2.05</text>\n</g>\n<!-- 0&#45;&gt;1 -->\n<g id=\"edge1\" class=\"edge\">\n<title>0&#45;&gt;1</title>\n<path fill=\"none\" stroke=\"black\" d=\"M603.9,-338.98C581.8,-329.03 556.32,-317.54 533.41,-307.21\"/>\n<polygon fill=\"black\" stroke=\"black\" points=\"534.66,-303.93 524.1,-303.01 531.78,-310.31 534.66,-303.93\"/>\n<text text-anchor=\"middle\" x=\"532.95\" y=\"-322.7\" font-family=\"Helvetica,sans-Serif\" font-size=\"14.00\">True</text>\n</g>\n<!-- 1219682 -->\n<g id=\"node15\" class=\"node\">\n<title>1219682</title>\n<polygon fill=\"#e5823a\" stroke=\"black\" points=\"974,-303 821,-303 821,-250 974,-250 974,-303\"/>\n<text text-anchor=\"middle\" x=\"897.5\" y=\"-287.8\" font-family=\"Helvetica,sans-Serif\" font-size=\"14.00\">databaseTime &lt;= 46.5</text>\n<text text-anchor=\"middle\" x=\"897.5\" y=\"-272.8\" font-family=\"Helvetica,sans-Serif\" font-size=\"14.00\">samples = 9.0%</text>\n<text text-anchor=\"middle\" x=\"897.5\" y=\"-257.8\" font-family=\"Helvetica,sans-Serif\" font-size=\"14.00\">value = 4.964</text>\n</g>\n<!-- 0&#45;&gt;1219682 -->\n<g id=\"edge14\" class=\"edge\">\n<title>0&#45;&gt;1219682</title>\n<path fill=\"none\" stroke=\"black\" d=\"M730.01,-338.98C757.74,-328.8 789.82,-317.03 818.43,-306.52\"/>\n<polygon fill=\"black\" stroke=\"black\" points=\"819.81,-309.75 827.99,-303.01 817.4,-303.18 819.81,-309.75\"/>\n<text text-anchor=\"middle\" x=\"817.49\" y=\"-322\" font-family=\"Helvetica,sans-Serif\" font-size=\"14.00\">False</text>\n</g>\n<!-- 2 -->\n<g id=\"node3\" class=\"node\">\n<title>2</title>\n<polygon fill=\"#efb388\" stroke=\"black\" points=\"291,-214 122,-214 122,-161 291,-161 291,-214\"/>\n<text text-anchor=\"middle\" x=\"206.5\" y=\"-198.8\" font-family=\"Helvetica,sans-Serif\" font-size=\"14.00\">applicationTime &lt;= 115.5</text>\n<text text-anchor=\"middle\" x=\"206.5\" y=\"-183.8\" font-family=\"Helvetica,sans-Serif\" font-size=\"14.00\">samples = 3.4%</text>\n<text text-anchor=\"middle\" x=\"206.5\" y=\"-168.8\" font-family=\"Helvetica,sans-Serif\" font-size=\"14.00\">value = 2.999</text>\n</g>\n<!-- 1&#45;&gt;2 -->\n<g id=\"edge2\" class=\"edge\">\n<title>1&#45;&gt;2</title>\n<path fill=\"none\" stroke=\"black\" d=\"M390.95,-249.98C360.15,-239.72 324.47,-227.82 292.75,-217.25\"/>\n<polygon fill=\"black\" stroke=\"black\" points=\"293.64,-213.86 283.04,-214.01 291.42,-220.5 293.64,-213.86\"/>\n</g>\n<!-- 65 -->\n<g id=\"node8\" class=\"node\">\n<title>65</title>\n<polygon fill=\"#f5ccaf\" stroke=\"black\" points=\"544,-214 391,-214 391,-161 544,-161 544,-214\"/>\n<text text-anchor=\"middle\" x=\"467.5\" y=\"-198.8\" font-family=\"Helvetica,sans-Serif\" font-size=\"14.00\">st_cpuUsage &lt;= 0.665</text>\n<text text-anchor=\"middle\" x=\"467.5\" y=\"-183.8\" font-family=\"Helvetica,sans-Serif\" font-size=\"14.00\">samples = 87.7%</text>\n<text text-anchor=\"middle\" x=\"467.5\" y=\"-168.8\" font-family=\"Helvetica,sans-Serif\" font-size=\"14.00\">value = 2.014</text>\n</g>\n<!-- 1&#45;&gt;65 -->\n<g id=\"edge7\" class=\"edge\">\n<title>1&#45;&gt;65</title>\n<path fill=\"none\" stroke=\"black\" d=\"M467.5,-249.87C467.5,-241.89 467.5,-232.93 467.5,-224.38\"/>\n<polygon fill=\"black\" stroke=\"black\" points=\"471,-224.25 467.5,-214.25 464,-224.25 471,-224.25\"/>\n</g>\n<!-- 3 -->\n<g id=\"node4\" class=\"node\">\n<title>3</title>\n<polygon fill=\"#efb388\" stroke=\"black\" points=\"131,-125 0,-125 0,-72 131,-72 131,-125\"/>\n<text text-anchor=\"middle\" x=\"65.5\" y=\"-109.8\" font-family=\"Helvetica,sans-Serif\" font-size=\"14.00\">apiTime &lt;= 6031.0</text>\n<text text-anchor=\"middle\" x=\"65.5\" y=\"-94.8\" font-family=\"Helvetica,sans-Serif\" font-size=\"14.00\">samples = 3.4%</text>\n<text text-anchor=\"middle\" x=\"65.5\" y=\"-79.8\" font-family=\"Helvetica,sans-Serif\" font-size=\"14.00\">value = 3.0</text>\n</g>\n<!-- 2&#45;&gt;3 -->\n<g id=\"edge3\" class=\"edge\">\n<title>2&#45;&gt;3</title>\n<path fill=\"none\" stroke=\"black\" d=\"M164.96,-160.87C149.6,-151.39 132.03,-140.55 115.97,-130.64\"/>\n<polygon fill=\"black\" stroke=\"black\" points=\"117.58,-127.52 107.23,-125.25 113.9,-133.48 117.58,-127.52\"/>\n</g>\n<!-- 64 -->\n<g id=\"node7\" class=\"node\">\n<title>64</title>\n<polygon fill=\"#ffffff\" stroke=\"black\" points=\"264,-117.5 149,-117.5 149,-79.5 264,-79.5 264,-117.5\"/>\n<text text-anchor=\"middle\" x=\"206.5\" y=\"-102.3\" font-family=\"Helvetica,sans-Serif\" font-size=\"14.00\">samples = 0.0%</text>\n<text text-anchor=\"middle\" x=\"206.5\" y=\"-87.3\" font-family=\"Helvetica,sans-Serif\" font-size=\"14.00\">value = 0.0</text>\n</g>\n<!-- 2&#45;&gt;64 -->\n<g id=\"edge6\" class=\"edge\">\n<title>2&#45;&gt;64</title>\n<path fill=\"none\" stroke=\"black\" d=\"M206.5,-160.87C206.5,-150.42 206.5,-138.3 206.5,-127.61\"/>\n<polygon fill=\"black\" stroke=\"black\" points=\"210,-127.51 206.5,-117.51 203,-127.51 210,-127.51\"/>\n</g>\n<!-- 4 -->\n<g id=\"node5\" class=\"node\">\n<title>4</title>\n<polygon fill=\"#c0c0c0\" stroke=\"black\" points=\"56.5,-36 2.5,-36 2.5,0 56.5,0 56.5,-36\"/>\n<text text-anchor=\"middle\" x=\"29.5\" y=\"-14.3\" font-family=\"Helvetica,sans-Serif\" font-size=\"14.00\">(...)</text>\n</g>\n<!-- 3&#45;&gt;4 -->\n<g id=\"edge4\" class=\"edge\">\n<title>3&#45;&gt;4</title>\n<path fill=\"none\" stroke=\"black\" d=\"M53.71,-71.8C49.84,-63.35 45.53,-53.95 41.63,-45.45\"/>\n<polygon fill=\"black\" stroke=\"black\" points=\"44.8,-43.96 37.45,-36.33 38.43,-46.88 44.8,-43.96\"/>\n</g>\n<!-- 5 -->\n<g id=\"node6\" class=\"node\">\n<title>5</title>\n<polygon fill=\"#c0c0c0\" stroke=\"black\" points=\"128.5,-36 74.5,-36 74.5,0 128.5,0 128.5,-36\"/>\n<text text-anchor=\"middle\" x=\"101.5\" y=\"-14.3\" font-family=\"Helvetica,sans-Serif\" font-size=\"14.00\">(...)</text>\n</g>\n<!-- 3&#45;&gt;5 -->\n<g id=\"edge5\" class=\"edge\">\n<title>3&#45;&gt;5</title>\n<path fill=\"none\" stroke=\"black\" d=\"M77.29,-71.8C81.16,-63.35 85.47,-53.95 89.37,-45.45\"/>\n<polygon fill=\"black\" stroke=\"black\" points=\"92.57,-46.88 93.55,-36.33 86.2,-43.96 92.57,-46.88\"/>\n</g>\n<!-- 66 -->\n<g id=\"node9\" class=\"node\">\n<title>66</title>\n<polygon fill=\"#f5cdb1\" stroke=\"black\" points=\"444.5,-125 282.5,-125 282.5,-72 444.5,-72 444.5,-125\"/>\n<text text-anchor=\"middle\" x=\"363.5\" y=\"-109.8\" font-family=\"Helvetica,sans-Serif\" font-size=\"14.00\">traf_cpuUsage &lt;= 0.245</text>\n<text text-anchor=\"middle\" x=\"363.5\" y=\"-94.8\" font-family=\"Helvetica,sans-Serif\" font-size=\"14.00\">samples = 75.0%</text>\n<text text-anchor=\"middle\" x=\"363.5\" y=\"-79.8\" font-family=\"Helvetica,sans-Serif\" font-size=\"14.00\">value = 1.979</text>\n</g>\n<!-- 65&#45;&gt;66 -->\n<g id=\"edge8\" class=\"edge\">\n<title>65&#45;&gt;66</title>\n<path fill=\"none\" stroke=\"black\" d=\"M436.86,-160.87C425.95,-151.75 413.53,-141.35 402.05,-131.75\"/>\n<polygon fill=\"black\" stroke=\"black\" points=\"404.2,-128.98 394.28,-125.25 399.71,-134.35 404.2,-128.98\"/>\n</g>\n<!-- 868803 -->\n<g id=\"node12\" class=\"node\">\n<title>868803</title>\n<polygon fill=\"#f3c7a7\" stroke=\"black\" points=\"636,-125 463,-125 463,-72 636,-72 636,-125\"/>\n<text text-anchor=\"middle\" x=\"549.5\" y=\"-109.8\" font-family=\"Helvetica,sans-Serif\" font-size=\"14.00\">queueSizeForward &lt;= 0.5</text>\n<text text-anchor=\"middle\" x=\"549.5\" y=\"-94.8\" font-family=\"Helvetica,sans-Serif\" font-size=\"14.00\">samples = 12.6%</text>\n<text text-anchor=\"middle\" x=\"549.5\" y=\"-79.8\" font-family=\"Helvetica,sans-Serif\" font-size=\"14.00\">value = 2.217</text>\n</g>\n<!-- 65&#45;&gt;868803 -->\n<g id=\"edge11\" class=\"edge\">\n<title>65&#45;&gt;868803</title>\n<path fill=\"none\" stroke=\"black\" d=\"M491.66,-160.87C500.01,-152.01 509.49,-141.95 518.32,-132.58\"/>\n<polygon fill=\"black\" stroke=\"black\" points=\"520.92,-134.93 525.23,-125.25 515.82,-130.13 520.92,-134.93\"/>\n</g>\n<!-- 67 -->\n<g id=\"node10\" class=\"node\">\n<title>67</title>\n<polygon fill=\"#c0c0c0\" stroke=\"black\" points=\"339.5,-36 285.5,-36 285.5,0 339.5,0 339.5,-36\"/>\n<text text-anchor=\"middle\" x=\"312.5\" y=\"-14.3\" font-family=\"Helvetica,sans-Serif\" font-size=\"14.00\">(...)</text>\n</g>\n<!-- 66&#45;&gt;67 -->\n<g id=\"edge9\" class=\"edge\">\n<title>66&#45;&gt;67</title>\n<path fill=\"none\" stroke=\"black\" d=\"M346.8,-71.8C341.19,-63.17 334.94,-53.54 329.33,-44.9\"/>\n<polygon fill=\"black\" stroke=\"black\" points=\"332.14,-42.81 323.76,-36.33 326.27,-46.62 332.14,-42.81\"/>\n</g>\n<!-- 430998 -->\n<g id=\"node11\" class=\"node\">\n<title>430998</title>\n<polygon fill=\"#c0c0c0\" stroke=\"black\" points=\"411.5,-36 357.5,-36 357.5,0 411.5,0 411.5,-36\"/>\n<text text-anchor=\"middle\" x=\"384.5\" y=\"-14.3\" font-family=\"Helvetica,sans-Serif\" font-size=\"14.00\">(...)</text>\n</g>\n<!-- 66&#45;&gt;430998 -->\n<g id=\"edge10\" class=\"edge\">\n<title>66&#45;&gt;430998</title>\n<path fill=\"none\" stroke=\"black\" d=\"M370.38,-71.8C372.59,-63.53 375.04,-54.35 377.28,-46\"/>\n<polygon fill=\"black\" stroke=\"black\" points=\"380.66,-46.9 379.86,-36.33 373.9,-45.09 380.66,-46.9\"/>\n</g>\n<!-- 868804 -->\n<g id=\"node13\" class=\"node\">\n<title>868804</title>\n<polygon fill=\"#c0c0c0\" stroke=\"black\" points=\"540.5,-36 486.5,-36 486.5,0 540.5,0 540.5,-36\"/>\n<text text-anchor=\"middle\" x=\"513.5\" y=\"-14.3\" font-family=\"Helvetica,sans-Serif\" font-size=\"14.00\">(...)</text>\n</g>\n<!-- 868803&#45;&gt;868804 -->\n<g id=\"edge12\" class=\"edge\">\n<title>868803&#45;&gt;868804</title>\n<path fill=\"none\" stroke=\"black\" d=\"M537.71,-71.8C533.84,-63.35 529.53,-53.95 525.63,-45.45\"/>\n<polygon fill=\"black\" stroke=\"black\" points=\"528.8,-43.96 521.45,-36.33 522.43,-46.88 528.8,-43.96\"/>\n</g>\n<!-- 1219681 -->\n<g id=\"node14\" class=\"node\">\n<title>1219681</title>\n<polygon fill=\"#c0c0c0\" stroke=\"black\" points=\"612.5,-36 558.5,-36 558.5,0 612.5,0 612.5,-36\"/>\n<text text-anchor=\"middle\" x=\"585.5\" y=\"-14.3\" font-family=\"Helvetica,sans-Serif\" font-size=\"14.00\">(...)</text>\n</g>\n<!-- 868803&#45;&gt;1219681 -->\n<g id=\"edge13\" class=\"edge\">\n<title>868803&#45;&gt;1219681</title>\n<path fill=\"none\" stroke=\"black\" d=\"M561.29,-71.8C565.16,-63.35 569.47,-53.95 573.37,-45.45\"/>\n<polygon fill=\"black\" stroke=\"black\" points=\"576.57,-46.88 577.55,-36.33 570.2,-43.96 576.57,-46.88\"/>\n</g>\n<!-- 1219683 -->\n<g id=\"node16\" class=\"node\">\n<title>1219683</title>\n<polygon fill=\"#e89253\" stroke=\"black\" points=\"978.5,-214 816.5,-214 816.5,-161 978.5,-161 978.5,-214\"/>\n<text text-anchor=\"middle\" x=\"897.5\" y=\"-198.8\" font-family=\"Helvetica,sans-Serif\" font-size=\"14.00\">traf_cpuUsage &lt;= 0.725</text>\n<text text-anchor=\"middle\" x=\"897.5\" y=\"-183.8\" font-family=\"Helvetica,sans-Serif\" font-size=\"14.00\">samples = 0.2%</text>\n<text text-anchor=\"middle\" x=\"897.5\" y=\"-168.8\" font-family=\"Helvetica,sans-Serif\" font-size=\"14.00\">value = 4.342</text>\n</g>\n<!-- 1219682&#45;&gt;1219683 -->\n<g id=\"edge15\" class=\"edge\">\n<title>1219682&#45;&gt;1219683</title>\n<path fill=\"none\" stroke=\"black\" d=\"M897.5,-249.87C897.5,-241.89 897.5,-232.93 897.5,-224.38\"/>\n<polygon fill=\"black\" stroke=\"black\" points=\"901,-224.25 897.5,-214.25 894,-224.25 901,-224.25\"/>\n</g>\n<!-- 1224374 -->\n<g id=\"node23\" class=\"node\">\n<title>1224374</title>\n<polygon fill=\"#e5823a\" stroke=\"black\" points=\"1328,-214 1155,-214 1155,-161 1328,-161 1328,-214\"/>\n<text text-anchor=\"middle\" x=\"1241.5\" y=\"-198.8\" font-family=\"Helvetica,sans-Serif\" font-size=\"14.00\">queueSizeForward &lt;= 6.0</text>\n<text text-anchor=\"middle\" x=\"1241.5\" y=\"-183.8\" font-family=\"Helvetica,sans-Serif\" font-size=\"14.00\">samples = 8.8%</text>\n<text text-anchor=\"middle\" x=\"1241.5\" y=\"-168.8\" font-family=\"Helvetica,sans-Serif\" font-size=\"14.00\">value = 4.977</text>\n</g>\n<!-- 1219682&#45;&gt;1224374 -->\n<g id=\"edge22\" class=\"edge\">\n<title>1219682&#45;&gt;1224374</title>\n<path fill=\"none\" stroke=\"black\" d=\"M974.27,-256.08C1024.7,-243.33 1091.07,-226.55 1145.05,-212.89\"/>\n<polygon fill=\"black\" stroke=\"black\" points=\"1146.14,-216.23 1154.98,-210.38 1144.42,-209.44 1146.14,-216.23\"/>\n</g>\n<!-- 1219684 -->\n<g id=\"node17\" class=\"node\">\n<title>1219684</title>\n<polygon fill=\"#eda977\" stroke=\"black\" points=\"888.5,-125 654.5,-125 654.5,-72 888.5,-72 888.5,-125\"/>\n<text text-anchor=\"middle\" x=\"771.5\" y=\"-109.8\" font-family=\"Helvetica,sans-Serif\" font-size=\"14.00\">trad_numberOfSellOffers &lt;= 1814.5</text>\n<text text-anchor=\"middle\" x=\"771.5\" y=\"-94.8\" font-family=\"Helvetica,sans-Serif\" font-size=\"14.00\">samples = 0.1%</text>\n<text text-anchor=\"middle\" x=\"771.5\" y=\"-79.8\" font-family=\"Helvetica,sans-Serif\" font-size=\"14.00\">value = 3.425</text>\n</g>\n<!-- 1219683&#45;&gt;1219684 -->\n<g id=\"edge16\" class=\"edge\">\n<title>1219683&#45;&gt;1219684</title>\n<path fill=\"none\" stroke=\"black\" d=\"M860.38,-160.87C846.91,-151.57 831.54,-140.95 817.4,-131.2\"/>\n<polygon fill=\"black\" stroke=\"black\" points=\"819.01,-128.05 808.79,-125.25 815.03,-133.81 819.01,-128.05\"/>\n</g>\n<!-- 1222463 -->\n<g id=\"node20\" class=\"node\">\n<title>1222463</title>\n<polygon fill=\"#e5833d\" stroke=\"black\" points=\"1142,-125 907,-125 907,-72 1142,-72 1142,-125\"/>\n<text text-anchor=\"middle\" x=\"1024.5\" y=\"-109.8\" font-family=\"Helvetica,sans-Serif\" font-size=\"14.00\">trad_numberOfBuyOffers &lt;= 1641.5</text>\n<text text-anchor=\"middle\" x=\"1024.5\" y=\"-94.8\" font-family=\"Helvetica,sans-Serif\" font-size=\"14.00\">samples = 0.1%</text>\n<text text-anchor=\"middle\" x=\"1024.5\" y=\"-79.8\" font-family=\"Helvetica,sans-Serif\" font-size=\"14.00\">value = 4.909</text>\n</g>\n<!-- 1219683&#45;&gt;1222463 -->\n<g id=\"edge19\" class=\"edge\">\n<title>1219683&#45;&gt;1222463</title>\n<path fill=\"none\" stroke=\"black\" d=\"M934.92,-160.87C948.62,-151.48 964.28,-140.75 978.63,-130.92\"/>\n<polygon fill=\"black\" stroke=\"black\" points=\"980.64,-133.79 986.91,-125.25 976.68,-128.01 980.64,-133.79\"/>\n</g>\n<!-- 1219685 -->\n<g id=\"node18\" class=\"node\">\n<title>1219685</title>\n<polygon fill=\"#c0c0c0\" stroke=\"black\" points=\"762.5,-36 708.5,-36 708.5,0 762.5,0 762.5,-36\"/>\n<text text-anchor=\"middle\" x=\"735.5\" y=\"-14.3\" font-family=\"Helvetica,sans-Serif\" font-size=\"14.00\">(...)</text>\n</g>\n<!-- 1219684&#45;&gt;1219685 -->\n<g id=\"edge17\" class=\"edge\">\n<title>1219684&#45;&gt;1219685</title>\n<path fill=\"none\" stroke=\"black\" d=\"M759.71,-71.8C755.84,-63.35 751.53,-53.95 747.63,-45.45\"/>\n<polygon fill=\"black\" stroke=\"black\" points=\"750.8,-43.96 743.45,-36.33 744.43,-46.88 750.8,-43.96\"/>\n</g>\n<!-- 1221568 -->\n<g id=\"node19\" class=\"node\">\n<title>1221568</title>\n<polygon fill=\"#c0c0c0\" stroke=\"black\" points=\"834.5,-36 780.5,-36 780.5,0 834.5,0 834.5,-36\"/>\n<text text-anchor=\"middle\" x=\"807.5\" y=\"-14.3\" font-family=\"Helvetica,sans-Serif\" font-size=\"14.00\">(...)</text>\n</g>\n<!-- 1219684&#45;&gt;1221568 -->\n<g id=\"edge18\" class=\"edge\">\n<title>1219684&#45;&gt;1221568</title>\n<path fill=\"none\" stroke=\"black\" d=\"M783.29,-71.8C787.16,-63.35 791.47,-53.95 795.37,-45.45\"/>\n<polygon fill=\"black\" stroke=\"black\" points=\"798.57,-46.88 799.55,-36.33 792.2,-43.96 798.57,-46.88\"/>\n</g>\n<!-- 1222464 -->\n<g id=\"node21\" class=\"node\">\n<title>1222464</title>\n<polygon fill=\"#c0c0c0\" stroke=\"black\" points=\"1015.5,-36 961.5,-36 961.5,0 1015.5,0 1015.5,-36\"/>\n<text text-anchor=\"middle\" x=\"988.5\" y=\"-14.3\" font-family=\"Helvetica,sans-Serif\" font-size=\"14.00\">(...)</text>\n</g>\n<!-- 1222463&#45;&gt;1222464 -->\n<g id=\"edge20\" class=\"edge\">\n<title>1222463&#45;&gt;1222464</title>\n<path fill=\"none\" stroke=\"black\" d=\"M1012.71,-71.8C1008.84,-63.35 1004.53,-53.95 1000.63,-45.45\"/>\n<polygon fill=\"black\" stroke=\"black\" points=\"1003.8,-43.96 996.45,-36.33 997.43,-46.88 1003.8,-43.96\"/>\n</g>\n<!-- 1224365 -->\n<g id=\"node22\" class=\"node\">\n<title>1224365</title>\n<polygon fill=\"#c0c0c0\" stroke=\"black\" points=\"1087.5,-36 1033.5,-36 1033.5,0 1087.5,0 1087.5,-36\"/>\n<text text-anchor=\"middle\" x=\"1060.5\" y=\"-14.3\" font-family=\"Helvetica,sans-Serif\" font-size=\"14.00\">(...)</text>\n</g>\n<!-- 1222463&#45;&gt;1224365 -->\n<g id=\"edge21\" class=\"edge\">\n<title>1222463&#45;&gt;1224365</title>\n<path fill=\"none\" stroke=\"black\" d=\"M1036.29,-71.8C1040.16,-63.35 1044.47,-53.95 1048.37,-45.45\"/>\n<polygon fill=\"black\" stroke=\"black\" points=\"1051.57,-46.88 1052.55,-36.33 1045.2,-43.96 1051.57,-46.88\"/>\n</g>\n<!-- 1224375 -->\n<g id=\"node24\" class=\"node\">\n<title>1224375</title>\n<polygon fill=\"#e5823a\" stroke=\"black\" points=\"1322.5,-125 1160.5,-125 1160.5,-72 1322.5,-72 1322.5,-125\"/>\n<text text-anchor=\"middle\" x=\"1241.5\" y=\"-109.8\" font-family=\"Helvetica,sans-Serif\" font-size=\"14.00\">traf_cpuUsage &lt;= 0.205</text>\n<text text-anchor=\"middle\" x=\"1241.5\" y=\"-94.8\" font-family=\"Helvetica,sans-Serif\" font-size=\"14.00\">samples = 8.8%</text>\n<text text-anchor=\"middle\" x=\"1241.5\" y=\"-79.8\" font-family=\"Helvetica,sans-Serif\" font-size=\"14.00\">value = 4.978</text>\n</g>\n<!-- 1224374&#45;&gt;1224375 -->\n<g id=\"edge23\" class=\"edge\">\n<title>1224374&#45;&gt;1224375</title>\n<path fill=\"none\" stroke=\"black\" d=\"M1241.5,-160.87C1241.5,-152.89 1241.5,-143.93 1241.5,-135.38\"/>\n<polygon fill=\"black\" stroke=\"black\" points=\"1245,-135.25 1241.5,-125.25 1238,-135.25 1245,-135.25\"/>\n</g>\n<!-- 1241962 -->\n<g id=\"node27\" class=\"node\">\n<title>1241962</title>\n<polygon fill=\"#f5cdb0\" stroke=\"black\" points=\"1520.5,-125 1340.5,-125 1340.5,-72 1520.5,-72 1520.5,-125\"/>\n<text text-anchor=\"middle\" x=\"1430.5\" y=\"-109.8\" font-family=\"Helvetica,sans-Serif\" font-size=\"14.00\">queueSizeForward &lt;= 89.5</text>\n<text text-anchor=\"middle\" x=\"1430.5\" y=\"-94.8\" font-family=\"Helvetica,sans-Serif\" font-size=\"14.00\">samples = 0.0%</text>\n<text text-anchor=\"middle\" x=\"1430.5\" y=\"-79.8\" font-family=\"Helvetica,sans-Serif\" font-size=\"14.00\">value = 1.988</text>\n</g>\n<!-- 1224374&#45;&gt;1241962 -->\n<g id=\"edge26\" class=\"edge\">\n<title>1224374&#45;&gt;1241962</title>\n<path fill=\"none\" stroke=\"black\" d=\"M1296.93,-160.98C1318.56,-151.03 1343.52,-139.54 1365.96,-129.21\"/>\n<polygon fill=\"black\" stroke=\"black\" points=\"1367.45,-132.38 1375.07,-125.01 1364.52,-126.02 1367.45,-132.38\"/>\n</g>\n<!-- 1224376 -->\n<g id=\"node25\" class=\"node\">\n<title>1224376</title>\n<polygon fill=\"#c0c0c0\" stroke=\"black\" points=\"1232.5,-36 1178.5,-36 1178.5,0 1232.5,0 1232.5,-36\"/>\n<text text-anchor=\"middle\" x=\"1205.5\" y=\"-14.3\" font-family=\"Helvetica,sans-Serif\" font-size=\"14.00\">(...)</text>\n</g>\n<!-- 1224375&#45;&gt;1224376 -->\n<g id=\"edge24\" class=\"edge\">\n<title>1224375&#45;&gt;1224376</title>\n<path fill=\"none\" stroke=\"black\" d=\"M1229.71,-71.8C1225.84,-63.35 1221.53,-53.95 1217.63,-45.45\"/>\n<polygon fill=\"black\" stroke=\"black\" points=\"1220.8,-43.96 1213.45,-36.33 1214.43,-46.88 1220.8,-43.96\"/>\n</g>\n<!-- 1229839 -->\n<g id=\"node26\" class=\"node\">\n<title>1229839</title>\n<polygon fill=\"#c0c0c0\" stroke=\"black\" points=\"1304.5,-36 1250.5,-36 1250.5,0 1304.5,0 1304.5,-36\"/>\n<text text-anchor=\"middle\" x=\"1277.5\" y=\"-14.3\" font-family=\"Helvetica,sans-Serif\" font-size=\"14.00\">(...)</text>\n</g>\n<!-- 1224375&#45;&gt;1229839 -->\n<g id=\"edge25\" class=\"edge\">\n<title>1224375&#45;&gt;1229839</title>\n<path fill=\"none\" stroke=\"black\" d=\"M1253.29,-71.8C1257.16,-63.35 1261.47,-53.95 1265.37,-45.45\"/>\n<polygon fill=\"black\" stroke=\"black\" points=\"1268.57,-46.88 1269.55,-36.33 1262.2,-43.96 1268.57,-46.88\"/>\n</g>\n<!-- 1241963 -->\n<g id=\"node28\" class=\"node\">\n<title>1241963</title>\n<polygon fill=\"#c0c0c0\" stroke=\"black\" points=\"1421.5,-36 1367.5,-36 1367.5,0 1421.5,0 1421.5,-36\"/>\n<text text-anchor=\"middle\" x=\"1394.5\" y=\"-14.3\" font-family=\"Helvetica,sans-Serif\" font-size=\"14.00\">(...)</text>\n</g>\n<!-- 1241962&#45;&gt;1241963 -->\n<g id=\"edge27\" class=\"edge\">\n<title>1241962&#45;&gt;1241963</title>\n<path fill=\"none\" stroke=\"black\" d=\"M1418.71,-71.8C1414.84,-63.35 1410.53,-53.95 1406.63,-45.45\"/>\n<polygon fill=\"black\" stroke=\"black\" points=\"1409.8,-43.96 1402.45,-36.33 1403.43,-46.88 1409.8,-43.96\"/>\n</g>\n<!-- 1241966 -->\n<g id=\"node29\" class=\"node\">\n<title>1241966</title>\n<polygon fill=\"#c0c0c0\" stroke=\"black\" points=\"1493.5,-36 1439.5,-36 1439.5,0 1493.5,0 1493.5,-36\"/>\n<text text-anchor=\"middle\" x=\"1466.5\" y=\"-14.3\" font-family=\"Helvetica,sans-Serif\" font-size=\"14.00\">(...)</text>\n</g>\n<!-- 1241962&#45;&gt;1241966 -->\n<g id=\"edge28\" class=\"edge\">\n<title>1241962&#45;&gt;1241966</title>\n<path fill=\"none\" stroke=\"black\" d=\"M1442.29,-71.8C1446.16,-63.35 1450.47,-53.95 1454.37,-45.45\"/>\n<polygon fill=\"black\" stroke=\"black\" points=\"1457.57,-46.88 1458.55,-36.33 1451.2,-43.96 1457.57,-46.88\"/>\n</g>\n</g>\n</svg>\n",
      "text/plain": "<graphviz.sources.Source at 0x1f4ce9aabe0>"
     },
     "metadata": {},
     "output_type": "display_data"
    }
   ],
   "source": [
    "tree_data = export_graphviz(model,\n",
    "                           feature_names=X_train.columns,\n",
    "                           filled=True,\n",
    "                           max_depth=3,\n",
    "                           impurity=False,\n",
    "                           proportion=True)\n",
    "graph = graphviz.Source(tree_data)\n",
    "display(graph)"
   ],
   "metadata": {
    "collapsed": false,
    "pycharm": {
     "name": "#%%\n"
    }
   }
  },
  {
   "cell_type": "code",
   "execution_count": null,
   "outputs": [],
   "source": [],
   "metadata": {
    "collapsed": false,
    "pycharm": {
     "name": "#%%\n"
    }
   }
  }
 ],
 "metadata": {
  "kernelspec": {
   "display_name": "Python 3 (ipykernel)",
   "language": "python",
   "name": "python3"
  },
  "language_info": {
   "codemirror_mode": {
    "name": "ipython",
    "version": 3
   },
   "file_extension": ".py",
   "mimetype": "text/x-python",
   "name": "python",
   "nbconvert_exporter": "python",
   "pygments_lexer": "ipython3",
   "version": "3.9.12"
  }
 },
 "nbformat": 4,
 "nbformat_minor": 1
}