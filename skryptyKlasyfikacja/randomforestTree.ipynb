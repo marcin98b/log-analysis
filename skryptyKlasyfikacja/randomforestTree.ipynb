{
 "cells": [
  {
   "cell_type": "markdown",
   "source": [
    "Import libraries"
   ],
   "metadata": {
    "collapsed": false,
    "pycharm": {
     "name": "#%% md\n"
    }
   }
  },
  {
   "cell_type": "code",
   "execution_count": 1,
   "metadata": {
    "collapsed": true,
    "pycharm": {
     "name": "#%%\n"
    }
   },
   "outputs": [],
   "source": [
    "import pandas as pd\n",
    "import matplotlib.pyplot as plt\n",
    "import numpy as np\n",
    "import graphviz\n",
    "\n",
    "from timeit import default_timer as timer\n",
    "from datetime import timedelta\n",
    "\n",
    "from sklearn.ensemble import RandomForestClassifier\n",
    "from sklearn.model_selection import train_test_split, RandomizedSearchCV\n",
    "from sklearn.metrics import mean_squared_error, accuracy_score, precision_score, recall_score, ConfusionMatrixDisplay, confusion_matrix\n",
    "\n",
    "from sklearn.tree import export_graphviz\n",
    "from holoviews.ipython import display"
   ]
  },
  {
   "cell_type": "markdown",
   "source": [
    "Train data (longer)"
   ],
   "metadata": {
    "collapsed": false,
    "pycharm": {
     "name": "#%% md\n"
    }
   }
  },
  {
   "cell_type": "code",
   "execution_count": 2,
   "metadata": {
    "pycharm": {
     "name": "#%%\n"
    }
   },
   "outputs": [
    {
     "name": "stdout",
     "output_type": "stream",
     "text": [
      "<class 'pandas.core.frame.DataFrame'>\n",
      "RangeIndex: 44937168 entries, 0 to 44937167\n",
      "Data columns (total 14 columns):\n",
      " #   Column                   Dtype  \n",
      "---  ------                   -----  \n",
      " 0   apiTime                  int64  \n",
      " 1   applicationTime          int64  \n",
      " 2   databaseTime             int64  \n",
      " 3   endpointUrl              int64  \n",
      " 4   queueSizeForward         int64  \n",
      " 5   queueSizeBack            int64  \n",
      " 6   st_cpuUsage              float64\n",
      " 7   st_memoryUsage           float64\n",
      " 8   trad_applicationTime     int64  \n",
      " 9   trad_databaseTime        int64  \n",
      " 10  trad_numberOfSellOffers  int64  \n",
      " 11  trad_numberOfBuyOffers   int64  \n",
      " 12  traf_cpuUsage            float64\n",
      " 13  traf_memoryUsage         float64\n",
      "dtypes: float64(4), int64(10)\n",
      "memory usage: 4.7 GB\n",
      "   apiTime  applicationTime  databaseTime  endpointUrl  queueSizeForward  \\\n",
      "0      485              244           102            0                 0   \n",
      "1      506              262           120            0                 0   \n",
      "2      506              137             7            0                 0   \n",
      "3      505              130             5            0                 0   \n",
      "4      558              134             5            0                 0   \n",
      "\n",
      "   queueSizeBack  st_cpuUsage  st_memoryUsage  trad_applicationTime  \\\n",
      "0              0         0.54            0.27                 11825   \n",
      "1              0         0.54            0.27                 11825   \n",
      "2              0         0.54            0.27                 11825   \n",
      "3              0         0.54            0.27                 11825   \n",
      "4              0         0.54            0.27                 11825   \n",
      "\n",
      "   trad_databaseTime  trad_numberOfSellOffers  trad_numberOfBuyOffers  \\\n",
      "0               9940                       53                     926   \n",
      "1               9940                       53                     926   \n",
      "2               9940                       53                     926   \n",
      "3               9940                       53                     926   \n",
      "4               9940                       53                     926   \n",
      "\n",
      "   traf_cpuUsage  traf_memoryUsage  \n",
      "0           0.07              0.61  \n",
      "1           0.07              0.61  \n",
      "2           0.07              0.61  \n",
      "3           0.07              0.61  \n",
      "4           0.07              0.61  \n"
     ]
    }
   ],
   "source": [
    "path = \"../12CPU_30RAM/43200s/allGroup/merged.csv\"\n",
    "df = pd.read_csv(path).dropna(inplace=False)\n",
    "\n",
    "df = df.iloc[:,1:]\n",
    "\n",
    "#single merge file (not grouped)\n",
    "#df = df.iloc[:,2:]\n",
    "\n",
    "#methods.csv\n",
    "if \"methods\" in path:\n",
    "    endpoint_map = {\n",
    "        'do-register': 0,\n",
    "        'add-sell-offer': 1,\n",
    "        'add-buy-offer': 2,\n",
    "        'get-stock-data': 3,\n",
    "        'add-company': 4,\n",
    "        'get-stock-users-and-companies': 5\n",
    "\n",
    "    }\n",
    "    # zastosowanie mapowania na kolumnę endpointUrl\n",
    "    df['endpointUrl'] = df['endpointUrl'].replace(endpoint_map)\n",
    "\n",
    "\n",
    "if 'replicaId' in df.columns:\n",
    "    df['replicaId'] = pd.factorize(df['replicaId'])[0]\n",
    "\n",
    "#zaokrąglij dane procentowe zużycia do dwóch miejsc po przecinku\n",
    "cols_to_round = [col for col in df.columns if col.endswith('memoryUsage') or col.endswith('cpuUsage')]\n",
    "if cols_to_round:\n",
    "    # round the columns to two decimal places\n",
    "    df[cols_to_round] = df[cols_to_round].round(2)\n",
    "\n",
    "df.info()\n",
    "print(df.head())\n",
    "\n",
    "#stock,trading\n",
    "\n",
    "#methods: timestamp,apiTime,applicationTime,databaseTime,endpointUrl,queueSizeForward,queueSizeBack,replicaId\n",
    "#stock : timestamp,cpuUsage,memoryUsage,replicaId\n",
    "#trading: timestamp,applicationTime,databaseTime,numberOfSellOffers,numberOfBuyOffers,replicaId\n",
    "#traffic: timestamp,cpuUsage,memoryUsage\n",
    "#merged: ,timestamp,apiTime,applicationTime,databaseTime,endpointUrl,queueSizeForward,queueSizeBack,st_cpuUsage,st_memoryUsage,trad_applicationTime,trad_databaseTime,trad_numberOfSellOffers,trad_numberOfBuyOffers,traf_cpuUsage,traf_memoryUsage\n",
    "\n",
    "#df.loc[:,[3, 5]]\n",
    "\n",
    "#X = df.drop([\"endpointUrl\"], axis=1);\n",
    "#X = df.filter([\"queueSizeBack\", \"trad_numberOfBuyOffers\", \"trad_numberOfSellOffers\"])\n",
    "#X_train = df.drop([\"endpointUrl\", \"apiTime\", \"applicationTime\", \"databaseTime\", \"trad_applicationTime\"], axis=1)\n",
    "X_train = df.drop([\"endpointUrl\"], axis=1)\n",
    "Y_train = df[\"endpointUrl\"];\n",
    "\n"
   ]
  },
  {
   "cell_type": "markdown",
   "source": [
    "Test data (shorter)"
   ],
   "metadata": {
    "collapsed": false,
    "pycharm": {
     "name": "#%% md\n"
    }
   }
  },
  {
   "cell_type": "code",
   "execution_count": 8,
   "outputs": [
    {
     "name": "stdout",
     "output_type": "stream",
     "text": [
      "<class 'pandas.core.frame.DataFrame'>\n",
      "RangeIndex: 8589190 entries, 0 to 8589189\n",
      "Data columns (total 14 columns):\n",
      " #   Column                   Dtype  \n",
      "---  ------                   -----  \n",
      " 0   apiTime                  int64  \n",
      " 1   applicationTime          int64  \n",
      " 2   databaseTime             int64  \n",
      " 3   endpointUrl              int64  \n",
      " 4   queueSizeForward         int64  \n",
      " 5   queueSizeBack            int64  \n",
      " 6   st_cpuUsage              float64\n",
      " 7   st_memoryUsage           float64\n",
      " 8   trad_applicationTime     int64  \n",
      " 9   trad_databaseTime        int64  \n",
      " 10  trad_numberOfSellOffers  int64  \n",
      " 11  trad_numberOfBuyOffers   int64  \n",
      " 12  traf_cpuUsage            float64\n",
      " 13  traf_memoryUsage         float64\n",
      "dtypes: float64(4), int64(10)\n",
      "memory usage: 917.4 MB\n",
      "   apiTime  applicationTime  databaseTime  endpointUrl  queueSizeForward  \\\n",
      "0      409              229            87            0                 0   \n",
      "1      413              226            88            0                 0   \n",
      "2      420              139             5            0                 0   \n",
      "3      430              135             6            0                 0   \n",
      "4      540              129             5            0                 0   \n",
      "\n",
      "   queueSizeBack  st_cpuUsage  st_memoryUsage  trad_applicationTime  \\\n",
      "0              0         0.38            0.79                 16757   \n",
      "1              0         0.38            0.79                 16757   \n",
      "2              0         0.38            0.79                 16757   \n",
      "3              0         0.38            0.79                 16757   \n",
      "4              0         0.38            0.79                 16757   \n",
      "\n",
      "   trad_databaseTime  trad_numberOfSellOffers  trad_numberOfBuyOffers  \\\n",
      "0              14271                       53                    1361   \n",
      "1              14271                       53                    1361   \n",
      "2              14271                       53                    1361   \n",
      "3              14271                       53                    1361   \n",
      "4              14271                       53                    1361   \n",
      "\n",
      "   traf_cpuUsage  traf_memoryUsage  \n",
      "0           0.09              0.29  \n",
      "1           0.09              0.29  \n",
      "2           0.09              0.29  \n",
      "3           0.09              0.29  \n",
      "4           0.09              0.29  \n"
     ]
    }
   ],
   "source": [
    "path = \"../12CPU_30RAM/3600s/allGroup/merged.csv\"\n",
    "df = pd.read_csv(path).dropna(inplace=False)\n",
    "\n",
    "df = df.iloc[:,1:]\n",
    "\n",
    "#single merge file (not grouped)\n",
    "#df = df.iloc[:,2:]\n",
    "\n",
    "#methods.csv\n",
    "if \"methods\" in path:\n",
    "    endpoint_map = {\n",
    "        'do-register': 0,\n",
    "        'add-sell-offer': 1,\n",
    "        'add-buy-offer': 2,\n",
    "        'get-stock-data': 3,\n",
    "        'add-company': 4,\n",
    "        'get-stock-users-and-companies': 5\n",
    "\n",
    "    }\n",
    "    # zastosowanie mapowania na kolumnę endpointUrl\n",
    "    df['endpointUrl'] = df['endpointUrl'].replace(endpoint_map)\n",
    "\n",
    "\n",
    "if 'replicaId' in df.columns:\n",
    "    df['replicaId'] = pd.factorize(df['replicaId'])[0]\n",
    "\n",
    "#zaokrąglij dane procentowe zużycia do dwóch miejsc po przecinku\n",
    "cols_to_round = [col for col in df.columns if col.endswith('memoryUsage') or col.endswith('cpuUsage')]\n",
    "if cols_to_round:\n",
    "    # round the columns to two decimal places\n",
    "    df[cols_to_round] = df[cols_to_round].round(2)\n",
    "\n",
    "df.info()\n",
    "print(df.head())\n",
    "\n",
    "#stock,trading\n",
    "\n",
    "#methods: timestamp,apiTime,applicationTime,databaseTime,endpointUrl,queueSizeForward,queueSizeBack,replicaId\n",
    "#stock : timestamp,cpuUsage,memoryUsage,replicaId\n",
    "#trading: timestamp,applicationTime,databaseTime,numberOfSellOffers,numberOfBuyOffers,replicaId\n",
    "#traffic: timestamp,cpuUsage,memoryUsage\n",
    "#merged: ,timestamp,apiTime,applicationTime,databaseTime,endpointUrl,queueSizeForward,queueSizeBack,st_cpuUsage,st_memoryUsage,trad_applicationTime,trad_databaseTime,trad_numberOfSellOffers,trad_numberOfBuyOffers,traf_cpuUsage,traf_memoryUsage\n",
    "\n",
    "#df.loc[:,[3, 5]]\n",
    "\n",
    "#X = df.drop([\"endpointUrl\"], axis=1);\n",
    "#X = df.filter([\"queueSizeBack\", \"trad_numberOfBuyOffers\", \"trad_numberOfSellOffers\"])\n",
    "#X_test = df.drop([\"endpointUrl\", \"apiTime\", \"applicationTime\", \"databaseTime\", \"trad_applicationTime\"], axis=1)\n",
    "X_test = df.drop([\"endpointUrl\"], axis=1)\n",
    "Y_test = df[\"endpointUrl\"];\n"
   ],
   "metadata": {
    "collapsed": false,
    "pycharm": {
     "name": "#%%\n"
    }
   }
  },
  {
   "cell_type": "markdown",
   "source": [
    " Definition of model"
   ],
   "metadata": {
    "collapsed": false,
    "pycharm": {
     "name": "#%% md\n"
    }
   }
  },
  {
   "cell_type": "code",
   "execution_count": 4,
   "metadata": {
    "pycharm": {
     "name": "#%%\n"
    }
   },
   "outputs": [
    {
     "name": "stdout",
     "output_type": "stream",
     "text": [
      "2:19:42.925414\n"
     ]
    }
   ],
   "source": [
    "#split test - use for only one csv\n",
    "#X_train, X_test, Y_train, Y_test = train_test_split(X, Y, test_size=0.3, random_state=44)\n",
    "start = timer()\n",
    "\n",
    "model = RandomForestClassifier(\n",
    "            #default: 100, None, gini\n",
    "            n_estimators=100,\n",
    "            max_depth=None,\n",
    "            criterion=\"gini\"\n",
    ")\n",
    "model.fit(X_train, Y_train)\n",
    "\n",
    "end = timer()\n",
    "print(timedelta(seconds=end-start))"
   ]
  },
  {
   "cell_type": "code",
   "execution_count": 9,
   "metadata": {
    "pycharm": {
     "name": "#%%\n"
    }
   },
   "outputs": [
    {
     "name": "stdout",
     "output_type": "stream",
     "text": [
      "[5 5 3 ... 5 1 2]\n"
     ]
    }
   ],
   "source": [
    "predictions = model.predict(X_test)\n",
    "print(predictions)"
   ]
  },
  {
   "cell_type": "code",
   "execution_count": 10,
   "outputs": [
    {
     "name": "stdout",
     "output_type": "stream",
     "text": [
      "0          0\n",
      "1          0\n",
      "2          0\n",
      "3          0\n",
      "4          0\n",
      "          ..\n",
      "8589185    2\n",
      "8589186    5\n",
      "8589187    5\n",
      "8589188    2\n",
      "8589189    2\n",
      "Name: endpointUrl, Length: 8589190, dtype: int64\n"
     ]
    }
   ],
   "source": [
    "print(Y_test)"
   ],
   "metadata": {
    "collapsed": false,
    "pycharm": {
     "name": "#%%\n"
    }
   }
  },
  {
   "cell_type": "markdown",
   "source": [
    "Calculating accuracy of prediction"
   ],
   "metadata": {
    "collapsed": false,
    "pycharm": {
     "name": "#%% md\n"
    }
   }
  },
  {
   "cell_type": "code",
   "execution_count": 11,
   "metadata": {
    "pycharm": {
     "name": "#%%\n"
    }
   },
   "outputs": [
    {
     "name": "stdout",
     "output_type": "stream",
     "text": [
      "RMSE:  0.3738\n",
      "Accuracy: 0.8767\n"
     ]
    }
   ],
   "source": [
    "model_RMSE = np.sqrt(mean_squared_error(Y_test, predictions))\n",
    "print(\"RMSE: \", round(model_RMSE, 4))\n",
    "print(\"Accuracy:\", round(accuracy_score(Y_test, predictions), 4))"
   ]
  },
  {
   "cell_type": "markdown",
   "source": [],
   "metadata": {
    "collapsed": false,
    "pycharm": {
     "name": "#%% md\n"
    }
   }
  },
  {
   "cell_type": "markdown",
   "source": [
    "RandForest graph draw (first n trees)"
   ],
   "metadata": {
    "collapsed": false,
    "pycharm": {
     "name": "#%% md\n"
    }
   }
  },
  {
   "cell_type": "code",
   "execution_count": 10,
   "outputs": [
    {
     "name": "stdout",
     "output_type": "stream",
     "text": [
      "Drzewo nr # 1 / 100\n"
     ]
    },
    {
     "data": {
      "image/svg+xml": "<?xml version=\"1.0\" encoding=\"UTF-8\" standalone=\"no\"?>\n<!DOCTYPE svg PUBLIC \"-//W3C//DTD SVG 1.1//EN\"\n \"http://www.w3.org/Graphics/SVG/1.1/DTD/svg11.dtd\">\n<!-- Generated by graphviz version 2.50.0 (0)\n -->\n<!-- Title: Tree Pages: 1 -->\n<svg width=\"1209pt\" height=\"311pt\"\n viewBox=\"0.00 0.00 1208.50 311.00\" xmlns=\"http://www.w3.org/2000/svg\" xmlns:xlink=\"http://www.w3.org/1999/xlink\">\n<g id=\"graph0\" class=\"graph\" transform=\"scale(1 1) rotate(0) translate(4 307)\">\n<title>Tree</title>\n<polygon fill=\"white\" stroke=\"transparent\" points=\"-4,4 -4,-307 1204.5,-307 1204.5,4 -4,4\"/>\n<!-- 0 -->\n<g id=\"node1\" class=\"node\">\n<title>0</title>\n<polygon fill=\"#49e78b\" stroke=\"black\" points=\"719.5,-303 437.5,-303 437.5,-250 719.5,-250 719.5,-303\"/>\n<text text-anchor=\"middle\" x=\"578.5\" y=\"-287.8\" font-family=\"Helvetica,sans-Serif\" font-size=\"14.00\">st_memoryUsage &lt;= 0.835</text>\n<text text-anchor=\"middle\" x=\"578.5\" y=\"-272.8\" font-family=\"Helvetica,sans-Serif\" font-size=\"14.00\">samples = 100.0%</text>\n<text text-anchor=\"middle\" x=\"578.5\" y=\"-257.8\" font-family=\"Helvetica,sans-Serif\" font-size=\"14.00\">value = [0.0, 0.044, 0.925, 0.016, 0.0, 0.015]</text>\n</g>\n<!-- 1 -->\n<g id=\"node2\" class=\"node\">\n<title>1</title>\n<polygon fill=\"#4ae78c\" stroke=\"black\" points=\"562.5,-214 280.5,-214 280.5,-161 562.5,-161 562.5,-214\"/>\n<text text-anchor=\"middle\" x=\"421.5\" y=\"-198.8\" font-family=\"Helvetica,sans-Serif\" font-size=\"14.00\">st_cpuUsage &lt;= 0.165</text>\n<text text-anchor=\"middle\" x=\"421.5\" y=\"-183.8\" font-family=\"Helvetica,sans-Serif\" font-size=\"14.00\">samples = 90.7%</text>\n<text text-anchor=\"middle\" x=\"421.5\" y=\"-168.8\" font-family=\"Helvetica,sans-Serif\" font-size=\"14.00\">value = [0.0, 0.047, 0.921, 0.016, 0.0, 0.015]</text>\n</g>\n<!-- 0&#45;&gt;1 -->\n<g id=\"edge1\" class=\"edge\">\n<title>0&#45;&gt;1</title>\n<path fill=\"none\" stroke=\"black\" d=\"M532.24,-249.87C514.75,-240.18 494.68,-229.05 476.47,-218.96\"/>\n<polygon fill=\"black\" stroke=\"black\" points=\"478.14,-215.88 467.7,-214.1 474.75,-222.01 478.14,-215.88\"/>\n<text text-anchor=\"middle\" x=\"474.59\" y=\"-234.43\" font-family=\"Helvetica,sans-Serif\" font-size=\"14.00\">True</text>\n</g>\n<!-- 126334 -->\n<g id=\"node9\" class=\"node\">\n<title>126334</title>\n<polygon fill=\"#40e685\" stroke=\"black\" points=\"892.5,-214 580.5,-214 580.5,-161 892.5,-161 892.5,-214\"/>\n<text text-anchor=\"middle\" x=\"736.5\" y=\"-198.8\" font-family=\"Helvetica,sans-Serif\" font-size=\"14.00\">databaseTime &lt;= 62.5</text>\n<text text-anchor=\"middle\" x=\"736.5\" y=\"-183.8\" font-family=\"Helvetica,sans-Serif\" font-size=\"14.00\">samples = 9.3%</text>\n<text text-anchor=\"middle\" x=\"736.5\" y=\"-168.8\" font-family=\"Helvetica,sans-Serif\" font-size=\"14.00\">value = [0.001, 0.006, 0.967, 0.013, 0.001, 0.014]</text>\n</g>\n<!-- 0&#45;&gt;126334 -->\n<g id=\"edge8\" class=\"edge\">\n<title>0&#45;&gt;126334</title>\n<path fill=\"none\" stroke=\"black\" d=\"M625.05,-249.87C642.65,-240.18 662.85,-229.05 681.18,-218.96\"/>\n<polygon fill=\"black\" stroke=\"black\" points=\"682.94,-221.99 690.01,-214.1 679.56,-215.86 682.94,-221.99\"/>\n<text text-anchor=\"middle\" x=\"683.05\" y=\"-234.41\" font-family=\"Helvetica,sans-Serif\" font-size=\"14.00\">False</text>\n</g>\n<!-- 2 -->\n<g id=\"node3\" class=\"node\">\n<title>2</title>\n<polygon fill=\"#e1fbec\" stroke=\"black\" points=\"267,-125 0,-125 0,-72 267,-72 267,-125\"/>\n<text text-anchor=\"middle\" x=\"133.5\" y=\"-109.8\" font-family=\"Helvetica,sans-Serif\" font-size=\"14.00\">queueSizeBack &lt;= 1727.5</text>\n<text text-anchor=\"middle\" x=\"133.5\" y=\"-94.8\" font-family=\"Helvetica,sans-Serif\" font-size=\"14.00\">samples = 4.6%</text>\n<text text-anchor=\"middle\" x=\"133.5\" y=\"-79.8\" font-family=\"Helvetica,sans-Serif\" font-size=\"14.00\">value = [0.0, 0.405, 0.495, 0.06, 0.0, 0.04]</text>\n</g>\n<!-- 1&#45;&gt;2 -->\n<g id=\"edge2\" class=\"edge\">\n<title>1&#45;&gt;2</title>\n<path fill=\"none\" stroke=\"black\" d=\"M337.04,-160.98C302.75,-150.63 263,-138.62 227.77,-127.98\"/>\n<polygon fill=\"black\" stroke=\"black\" points=\"228.55,-124.56 217.96,-125.01 226.52,-131.26 228.55,-124.56\"/>\n</g>\n<!-- 34913 -->\n<g id=\"node6\" class=\"node\">\n<title>34913</title>\n<polygon fill=\"#45e788\" stroke=\"black\" points=\"567.5,-125 285.5,-125 285.5,-72 567.5,-72 567.5,-125\"/>\n<text text-anchor=\"middle\" x=\"426.5\" y=\"-109.8\" font-family=\"Helvetica,sans-Serif\" font-size=\"14.00\">queueSizeForward &lt;= 264.5</text>\n<text text-anchor=\"middle\" x=\"426.5\" y=\"-94.8\" font-family=\"Helvetica,sans-Serif\" font-size=\"14.00\">samples = 86.0%</text>\n<text text-anchor=\"middle\" x=\"426.5\" y=\"-79.8\" font-family=\"Helvetica,sans-Serif\" font-size=\"14.00\">value = [0.0, 0.028, 0.943, 0.014, 0.0, 0.014]</text>\n</g>\n<!-- 1&#45;&gt;34913 -->\n<g id=\"edge5\" class=\"edge\">\n<title>1&#45;&gt;34913</title>\n<path fill=\"none\" stroke=\"black\" d=\"M422.97,-160.87C423.43,-152.89 423.95,-143.93 424.44,-135.38\"/>\n<polygon fill=\"black\" stroke=\"black\" points=\"427.94,-135.43 425.02,-125.25 420.95,-135.03 427.94,-135.43\"/>\n</g>\n<!-- 3 -->\n<g id=\"node4\" class=\"node\">\n<title>3</title>\n<polygon fill=\"#c0c0c0\" stroke=\"black\" points=\"124.5,-36 70.5,-36 70.5,0 124.5,0 124.5,-36\"/>\n<text text-anchor=\"middle\" x=\"97.5\" y=\"-14.3\" font-family=\"Helvetica,sans-Serif\" font-size=\"14.00\">(...)</text>\n</g>\n<!-- 2&#45;&gt;3 -->\n<g id=\"edge3\" class=\"edge\">\n<title>2&#45;&gt;3</title>\n<path fill=\"none\" stroke=\"black\" d=\"M121.71,-71.8C117.84,-63.35 113.53,-53.95 109.63,-45.45\"/>\n<polygon fill=\"black\" stroke=\"black\" points=\"112.8,-43.96 105.45,-36.33 106.43,-46.88 112.8,-43.96\"/>\n</g>\n<!-- 32248 -->\n<g id=\"node5\" class=\"node\">\n<title>32248</title>\n<polygon fill=\"#c0c0c0\" stroke=\"black\" points=\"196.5,-36 142.5,-36 142.5,0 196.5,0 196.5,-36\"/>\n<text text-anchor=\"middle\" x=\"169.5\" y=\"-14.3\" font-family=\"Helvetica,sans-Serif\" font-size=\"14.00\">(...)</text>\n</g>\n<!-- 2&#45;&gt;32248 -->\n<g id=\"edge4\" class=\"edge\">\n<title>2&#45;&gt;32248</title>\n<path fill=\"none\" stroke=\"black\" d=\"M145.29,-71.8C149.16,-63.35 153.47,-53.95 157.37,-45.45\"/>\n<polygon fill=\"black\" stroke=\"black\" points=\"160.57,-46.88 161.55,-36.33 154.2,-43.96 160.57,-46.88\"/>\n</g>\n<!-- 34914 -->\n<g id=\"node7\" class=\"node\">\n<title>34914</title>\n<polygon fill=\"#c0c0c0\" stroke=\"black\" points=\"417.5,-36 363.5,-36 363.5,0 417.5,0 417.5,-36\"/>\n<text text-anchor=\"middle\" x=\"390.5\" y=\"-14.3\" font-family=\"Helvetica,sans-Serif\" font-size=\"14.00\">(...)</text>\n</g>\n<!-- 34913&#45;&gt;34914 -->\n<g id=\"edge6\" class=\"edge\">\n<title>34913&#45;&gt;34914</title>\n<path fill=\"none\" stroke=\"black\" d=\"M414.71,-71.8C410.84,-63.35 406.53,-53.95 402.63,-45.45\"/>\n<polygon fill=\"black\" stroke=\"black\" points=\"405.8,-43.96 398.45,-36.33 399.43,-46.88 405.8,-43.96\"/>\n</g>\n<!-- 126333 -->\n<g id=\"node8\" class=\"node\">\n<title>126333</title>\n<polygon fill=\"#c0c0c0\" stroke=\"black\" points=\"489.5,-36 435.5,-36 435.5,0 489.5,0 489.5,-36\"/>\n<text text-anchor=\"middle\" x=\"462.5\" y=\"-14.3\" font-family=\"Helvetica,sans-Serif\" font-size=\"14.00\">(...)</text>\n</g>\n<!-- 34913&#45;&gt;126333 -->\n<g id=\"edge7\" class=\"edge\">\n<title>34913&#45;&gt;126333</title>\n<path fill=\"none\" stroke=\"black\" d=\"M438.29,-71.8C442.16,-63.35 446.47,-53.95 450.37,-45.45\"/>\n<polygon fill=\"black\" stroke=\"black\" points=\"453.57,-46.88 454.55,-36.33 447.2,-43.96 453.57,-46.88\"/>\n</g>\n<!-- 126335 -->\n<g id=\"node10\" class=\"node\">\n<title>126335</title>\n<polygon fill=\"#3de684\" stroke=\"black\" points=\"870,-125 595,-125 595,-72 870,-72 870,-125\"/>\n<text text-anchor=\"middle\" x=\"732.5\" y=\"-109.8\" font-family=\"Helvetica,sans-Serif\" font-size=\"14.00\">apiTime &lt;= 109988.5</text>\n<text text-anchor=\"middle\" x=\"732.5\" y=\"-94.8\" font-family=\"Helvetica,sans-Serif\" font-size=\"14.00\">samples = 9.2%</text>\n<text text-anchor=\"middle\" x=\"732.5\" y=\"-79.8\" font-family=\"Helvetica,sans-Serif\" font-size=\"14.00\">value = [0.001, 0.006, 0.98, 0.013, 0.0, 0.0]</text>\n</g>\n<!-- 126334&#45;&gt;126335 -->\n<g id=\"edge9\" class=\"edge\">\n<title>126334&#45;&gt;126335</title>\n<path fill=\"none\" stroke=\"black\" d=\"M735.32,-160.87C734.95,-152.89 734.54,-143.93 734.15,-135.38\"/>\n<polygon fill=\"black\" stroke=\"black\" points=\"737.64,-135.08 733.68,-125.25 730.65,-135.4 737.64,-135.08\"/>\n</g>\n<!-- 132728 -->\n<g id=\"node13\" class=\"node\">\n<title>132728</title>\n<polygon fill=\"#e63d9f\" stroke=\"black\" points=\"1200.5,-125 888.5,-125 888.5,-72 1200.5,-72 1200.5,-125\"/>\n<text text-anchor=\"middle\" x=\"1044.5\" y=\"-109.8\" font-family=\"Helvetica,sans-Serif\" font-size=\"14.00\">trad_numberOfBuyOffers &lt;= 4020.5</text>\n<text text-anchor=\"middle\" x=\"1044.5\" y=\"-94.8\" font-family=\"Helvetica,sans-Serif\" font-size=\"14.00\">samples = 0.1%</text>\n<text text-anchor=\"middle\" x=\"1044.5\" y=\"-79.8\" font-family=\"Helvetica,sans-Serif\" font-size=\"14.00\">value = [0.002, 0.004, 0.007, 0.003, 0.005, 0.979]</text>\n</g>\n<!-- 126334&#45;&gt;132728 -->\n<g id=\"edge12\" class=\"edge\">\n<title>126334&#45;&gt;132728</title>\n<path fill=\"none\" stroke=\"black\" d=\"M826.83,-160.98C863.65,-150.58 906.37,-138.52 944.17,-127.84\"/>\n<polygon fill=\"black\" stroke=\"black\" points=\"945.5,-131.1 954.17,-125.01 943.6,-124.36 945.5,-131.1\"/>\n</g>\n<!-- 126336 -->\n<g id=\"node11\" class=\"node\">\n<title>126336</title>\n<polygon fill=\"#c0c0c0\" stroke=\"black\" points=\"723.5,-36 669.5,-36 669.5,0 723.5,0 723.5,-36\"/>\n<text text-anchor=\"middle\" x=\"696.5\" y=\"-14.3\" font-family=\"Helvetica,sans-Serif\" font-size=\"14.00\">(...)</text>\n</g>\n<!-- 126335&#45;&gt;126336 -->\n<g id=\"edge10\" class=\"edge\">\n<title>126335&#45;&gt;126336</title>\n<path fill=\"none\" stroke=\"black\" d=\"M720.71,-71.8C716.84,-63.35 712.53,-53.95 708.63,-45.45\"/>\n<polygon fill=\"black\" stroke=\"black\" points=\"711.8,-43.96 704.45,-36.33 705.43,-46.88 711.8,-43.96\"/>\n</g>\n<!-- 131407 -->\n<g id=\"node12\" class=\"node\">\n<title>131407</title>\n<polygon fill=\"#c0c0c0\" stroke=\"black\" points=\"795.5,-36 741.5,-36 741.5,0 795.5,0 795.5,-36\"/>\n<text text-anchor=\"middle\" x=\"768.5\" y=\"-14.3\" font-family=\"Helvetica,sans-Serif\" font-size=\"14.00\">(...)</text>\n</g>\n<!-- 126335&#45;&gt;131407 -->\n<g id=\"edge11\" class=\"edge\">\n<title>126335&#45;&gt;131407</title>\n<path fill=\"none\" stroke=\"black\" d=\"M744.29,-71.8C748.16,-63.35 752.47,-53.95 756.37,-45.45\"/>\n<polygon fill=\"black\" stroke=\"black\" points=\"759.57,-46.88 760.55,-36.33 753.2,-43.96 759.57,-46.88\"/>\n</g>\n<!-- 132729 -->\n<g id=\"node14\" class=\"node\">\n<title>132729</title>\n<polygon fill=\"#c0c0c0\" stroke=\"black\" points=\"1035.5,-36 981.5,-36 981.5,0 1035.5,0 1035.5,-36\"/>\n<text text-anchor=\"middle\" x=\"1008.5\" y=\"-14.3\" font-family=\"Helvetica,sans-Serif\" font-size=\"14.00\">(...)</text>\n</g>\n<!-- 132728&#45;&gt;132729 -->\n<g id=\"edge13\" class=\"edge\">\n<title>132728&#45;&gt;132729</title>\n<path fill=\"none\" stroke=\"black\" d=\"M1032.71,-71.8C1028.84,-63.35 1024.53,-53.95 1020.63,-45.45\"/>\n<polygon fill=\"black\" stroke=\"black\" points=\"1023.8,-43.96 1016.45,-36.33 1017.43,-46.88 1023.8,-43.96\"/>\n</g>\n<!-- 132846 -->\n<g id=\"node15\" class=\"node\">\n<title>132846</title>\n<polygon fill=\"#c0c0c0\" stroke=\"black\" points=\"1107.5,-36 1053.5,-36 1053.5,0 1107.5,0 1107.5,-36\"/>\n<text text-anchor=\"middle\" x=\"1080.5\" y=\"-14.3\" font-family=\"Helvetica,sans-Serif\" font-size=\"14.00\">(...)</text>\n</g>\n<!-- 132728&#45;&gt;132846 -->\n<g id=\"edge14\" class=\"edge\">\n<title>132728&#45;&gt;132846</title>\n<path fill=\"none\" stroke=\"black\" d=\"M1056.29,-71.8C1060.16,-63.35 1064.47,-53.95 1068.37,-45.45\"/>\n<polygon fill=\"black\" stroke=\"black\" points=\"1071.57,-46.88 1072.55,-36.33 1065.2,-43.96 1071.57,-46.88\"/>\n</g>\n</g>\n</svg>\n",
      "text/plain": "<graphviz.sources.Source at 0x25ca62f9e50>"
     },
     "metadata": {},
     "output_type": "display_data"
    },
    {
     "name": "stdout",
     "output_type": "stream",
     "text": [
      "Drzewo nr # 2 / 100\n"
     ]
    },
    {
     "data": {
      "image/svg+xml": "<?xml version=\"1.0\" encoding=\"UTF-8\" standalone=\"no\"?>\n<!DOCTYPE svg PUBLIC \"-//W3C//DTD SVG 1.1//EN\"\n \"http://www.w3.org/Graphics/SVG/1.1/DTD/svg11.dtd\">\n<!-- Generated by graphviz version 2.50.0 (0)\n -->\n<!-- Title: Tree Pages: 1 -->\n<svg width=\"1190pt\" height=\"311pt\"\n viewBox=\"0.00 0.00 1189.50 311.00\" xmlns=\"http://www.w3.org/2000/svg\" xmlns:xlink=\"http://www.w3.org/1999/xlink\">\n<g id=\"graph0\" class=\"graph\" transform=\"scale(1 1) rotate(0) translate(4 307)\">\n<title>Tree</title>\n<polygon fill=\"white\" stroke=\"transparent\" points=\"-4,4 -4,-307 1185.5,-307 1185.5,4 -4,4\"/>\n<!-- 0 -->\n<g id=\"node1\" class=\"node\">\n<title>0</title>\n<polygon fill=\"#49e78b\" stroke=\"black\" points=\"719,-303 437,-303 437,-250 719,-250 719,-303\"/>\n<text text-anchor=\"middle\" x=\"578\" y=\"-287.8\" font-family=\"Helvetica,sans-Serif\" font-size=\"14.00\">databaseTime &lt;= 59.5</text>\n<text text-anchor=\"middle\" x=\"578\" y=\"-272.8\" font-family=\"Helvetica,sans-Serif\" font-size=\"14.00\">samples = 100.0%</text>\n<text text-anchor=\"middle\" x=\"578\" y=\"-257.8\" font-family=\"Helvetica,sans-Serif\" font-size=\"14.00\">value = [0.0, 0.044, 0.925, 0.016, 0.0, 0.015]</text>\n</g>\n<!-- 1 -->\n<g id=\"node2\" class=\"node\">\n<title>1</title>\n<polygon fill=\"#46e789\" stroke=\"black\" points=\"562,-214 302,-214 302,-161 562,-161 562,-214\"/>\n<text text-anchor=\"middle\" x=\"432\" y=\"-198.8\" font-family=\"Helvetica,sans-Serif\" font-size=\"14.00\">apiTime &lt;= 45755.5</text>\n<text text-anchor=\"middle\" x=\"432\" y=\"-183.8\" font-family=\"Helvetica,sans-Serif\" font-size=\"14.00\">samples = 98.4%</text>\n<text text-anchor=\"middle\" x=\"432\" y=\"-168.8\" font-family=\"Helvetica,sans-Serif\" font-size=\"14.00\">value = [0.0, 0.044, 0.94, 0.016, 0.0, 0.0]</text>\n</g>\n<!-- 0&#45;&gt;1 -->\n<g id=\"edge1\" class=\"edge\">\n<title>0&#45;&gt;1</title>\n<path fill=\"none\" stroke=\"black\" d=\"M534.98,-249.87C518.87,-240.26 500.39,-229.25 483.58,-219.24\"/>\n<polygon fill=\"black\" stroke=\"black\" points=\"485.34,-216.21 474.96,-214.1 481.76,-222.23 485.34,-216.21\"/>\n<text text-anchor=\"middle\" x=\"481.1\" y=\"-234.63\" font-family=\"Helvetica,sans-Serif\" font-size=\"14.00\">True</text>\n</g>\n<!-- 131614 -->\n<g id=\"node9\" class=\"node\">\n<title>131614</title>\n<polygon fill=\"#e63fa0\" stroke=\"black\" points=\"870,-214 580,-214 580,-161 870,-161 870,-214\"/>\n<text text-anchor=\"middle\" x=\"725\" y=\"-198.8\" font-family=\"Helvetica,sans-Serif\" font-size=\"14.00\">databaseTime &lt;= 68.5</text>\n<text text-anchor=\"middle\" x=\"725\" y=\"-183.8\" font-family=\"Helvetica,sans-Serif\" font-size=\"14.00\">samples = 1.6%</text>\n<text text-anchor=\"middle\" x=\"725\" y=\"-168.8\" font-family=\"Helvetica,sans-Serif\" font-size=\"14.00\">value = [0.0, 0.002, 0.006, 0.02, 0.003, 0.969]</text>\n</g>\n<!-- 0&#45;&gt;131614 -->\n<g id=\"edge8\" class=\"edge\">\n<title>0&#45;&gt;131614</title>\n<path fill=\"none\" stroke=\"black\" d=\"M621.31,-249.87C637.54,-240.26 656.14,-229.25 673.07,-219.24\"/>\n<polygon fill=\"black\" stroke=\"black\" points=\"674.92,-222.2 681.75,-214.1 671.36,-216.18 674.92,-222.2\"/>\n<text text-anchor=\"middle\" x=\"675.54\" y=\"-234.62\" font-family=\"Helvetica,sans-Serif\" font-size=\"14.00\">False</text>\n</g>\n<!-- 2 -->\n<g id=\"node3\" class=\"node\">\n<title>2</title>\n<polygon fill=\"#55e993\" stroke=\"black\" points=\"282,-125 0,-125 0,-72 282,-72 282,-125\"/>\n<text text-anchor=\"middle\" x=\"141\" y=\"-109.8\" font-family=\"Helvetica,sans-Serif\" font-size=\"14.00\">st_cpuUsage &lt;= 0.165</text>\n<text text-anchor=\"middle\" x=\"141\" y=\"-94.8\" font-family=\"Helvetica,sans-Serif\" font-size=\"14.00\">samples = 39.9%</text>\n<text text-anchor=\"middle\" x=\"141\" y=\"-79.8\" font-family=\"Helvetica,sans-Serif\" font-size=\"14.00\">value = [0.001, 0.105, 0.872, 0.022, 0.0, 0.0]</text>\n</g>\n<!-- 1&#45;&gt;2 -->\n<g id=\"edge2\" class=\"edge\">\n<title>1&#45;&gt;2</title>\n<path fill=\"none\" stroke=\"black\" d=\"M346.66,-160.98C312.01,-150.63 271.84,-138.62 236.25,-127.98\"/>\n<polygon fill=\"black\" stroke=\"black\" points=\"236.93,-124.53 226.34,-125.01 234.92,-131.23 236.93,-124.53\"/>\n</g>\n<!-- 105851 -->\n<g id=\"node6\" class=\"node\">\n<title>105851</title>\n<polygon fill=\"#3ce583\" stroke=\"black\" points=\"566,-125 300,-125 300,-72 566,-72 566,-125\"/>\n<text text-anchor=\"middle\" x=\"433\" y=\"-109.8\" font-family=\"Helvetica,sans-Serif\" font-size=\"14.00\">st_cpuUsage &lt;= 0.665</text>\n<text text-anchor=\"middle\" x=\"433\" y=\"-94.8\" font-family=\"Helvetica,sans-Serif\" font-size=\"14.00\">samples = 58.5%</text>\n<text text-anchor=\"middle\" x=\"433\" y=\"-79.8\" font-family=\"Helvetica,sans-Serif\" font-size=\"14.00\">value = [0.0, 0.003, 0.986, 0.011, 0.0, 0.0]</text>\n</g>\n<!-- 1&#45;&gt;105851 -->\n<g id=\"edge5\" class=\"edge\">\n<title>1&#45;&gt;105851</title>\n<path fill=\"none\" stroke=\"black\" d=\"M432.29,-160.87C432.39,-152.89 432.49,-143.93 432.59,-135.38\"/>\n<polygon fill=\"black\" stroke=\"black\" points=\"436.09,-135.29 432.7,-125.25 429.09,-135.21 436.09,-135.29\"/>\n</g>\n<!-- 3 -->\n<g id=\"node4\" class=\"node\">\n<title>3</title>\n<polygon fill=\"#c0c0c0\" stroke=\"black\" points=\"132,-36 78,-36 78,0 132,0 132,-36\"/>\n<text text-anchor=\"middle\" x=\"105\" y=\"-14.3\" font-family=\"Helvetica,sans-Serif\" font-size=\"14.00\">(...)</text>\n</g>\n<!-- 2&#45;&gt;3 -->\n<g id=\"edge3\" class=\"edge\">\n<title>2&#45;&gt;3</title>\n<path fill=\"none\" stroke=\"black\" d=\"M129.21,-71.8C125.34,-63.35 121.03,-53.95 117.13,-45.45\"/>\n<polygon fill=\"black\" stroke=\"black\" points=\"120.3,-43.96 112.95,-36.33 113.93,-46.88 120.3,-43.96\"/>\n</g>\n<!-- 33896 -->\n<g id=\"node5\" class=\"node\">\n<title>33896</title>\n<polygon fill=\"#c0c0c0\" stroke=\"black\" points=\"204,-36 150,-36 150,0 204,0 204,-36\"/>\n<text text-anchor=\"middle\" x=\"177\" y=\"-14.3\" font-family=\"Helvetica,sans-Serif\" font-size=\"14.00\">(...)</text>\n</g>\n<!-- 2&#45;&gt;33896 -->\n<g id=\"edge4\" class=\"edge\">\n<title>2&#45;&gt;33896</title>\n<path fill=\"none\" stroke=\"black\" d=\"M152.79,-71.8C156.66,-63.35 160.97,-53.95 164.87,-45.45\"/>\n<polygon fill=\"black\" stroke=\"black\" points=\"168.07,-46.88 169.05,-36.33 161.7,-43.96 168.07,-46.88\"/>\n</g>\n<!-- 105852 -->\n<g id=\"node7\" class=\"node\">\n<title>105852</title>\n<polygon fill=\"#c0c0c0\" stroke=\"black\" points=\"424,-36 370,-36 370,0 424,0 424,-36\"/>\n<text text-anchor=\"middle\" x=\"397\" y=\"-14.3\" font-family=\"Helvetica,sans-Serif\" font-size=\"14.00\">(...)</text>\n</g>\n<!-- 105851&#45;&gt;105852 -->\n<g id=\"edge6\" class=\"edge\">\n<title>105851&#45;&gt;105852</title>\n<path fill=\"none\" stroke=\"black\" d=\"M421.21,-71.8C417.34,-63.35 413.03,-53.95 409.13,-45.45\"/>\n<polygon fill=\"black\" stroke=\"black\" points=\"412.3,-43.96 404.95,-36.33 405.93,-46.88 412.3,-43.96\"/>\n</g>\n<!-- 130795 -->\n<g id=\"node8\" class=\"node\">\n<title>130795</title>\n<polygon fill=\"#c0c0c0\" stroke=\"black\" points=\"496,-36 442,-36 442,0 496,0 496,-36\"/>\n<text text-anchor=\"middle\" x=\"469\" y=\"-14.3\" font-family=\"Helvetica,sans-Serif\" font-size=\"14.00\">(...)</text>\n</g>\n<!-- 105851&#45;&gt;130795 -->\n<g id=\"edge7\" class=\"edge\">\n<title>105851&#45;&gt;130795</title>\n<path fill=\"none\" stroke=\"black\" d=\"M444.79,-71.8C448.66,-63.35 452.97,-53.95 456.87,-45.45\"/>\n<polygon fill=\"black\" stroke=\"black\" points=\"460.07,-46.88 461.05,-36.33 453.7,-43.96 460.07,-46.88\"/>\n</g>\n<!-- 131615 -->\n<g id=\"node10\" class=\"node\">\n<title>131615</title>\n<polygon fill=\"#f5b2d9\" stroke=\"black\" points=\"866,-125 584,-125 584,-72 866,-72 866,-125\"/>\n<text text-anchor=\"middle\" x=\"725\" y=\"-109.8\" font-family=\"Helvetica,sans-Serif\" font-size=\"14.00\">trad_numberOfBuyOffers &lt;= 1596.5</text>\n<text text-anchor=\"middle\" x=\"725\" y=\"-94.8\" font-family=\"Helvetica,sans-Serif\" font-size=\"14.00\">samples = 0.0%</text>\n<text text-anchor=\"middle\" x=\"725\" y=\"-79.8\" font-family=\"Helvetica,sans-Serif\" font-size=\"14.00\">value = [0.0, 0.028, 0.13, 0.249, 0.053, 0.54]</text>\n</g>\n<!-- 131614&#45;&gt;131615 -->\n<g id=\"edge9\" class=\"edge\">\n<title>131614&#45;&gt;131615</title>\n<path fill=\"none\" stroke=\"black\" d=\"M725,-160.87C725,-152.89 725,-143.93 725,-135.38\"/>\n<polygon fill=\"black\" stroke=\"black\" points=\"728.5,-135.25 725,-125.25 721.5,-135.25 728.5,-135.25\"/>\n</g>\n<!-- 131822 -->\n<g id=\"node13\" class=\"node\">\n<title>131822</title>\n<polygon fill=\"#e63e9f\" stroke=\"black\" points=\"1181.5,-125 884.5,-125 884.5,-72 1181.5,-72 1181.5,-125\"/>\n<text text-anchor=\"middle\" x=\"1033\" y=\"-109.8\" font-family=\"Helvetica,sans-Serif\" font-size=\"14.00\">apiTime &lt;= 174935.0</text>\n<text text-anchor=\"middle\" x=\"1033\" y=\"-94.8\" font-family=\"Helvetica,sans-Serif\" font-size=\"14.00\">samples = 1.6%</text>\n<text text-anchor=\"middle\" x=\"1033\" y=\"-79.8\" font-family=\"Helvetica,sans-Serif\" font-size=\"14.00\">value = [0.0, 0.002, 0.003, 0.016, 0.002, 0.976]</text>\n</g>\n<!-- 131614&#45;&gt;131822 -->\n<g id=\"edge12\" class=\"edge\">\n<title>131614&#45;&gt;131822</title>\n<path fill=\"none\" stroke=\"black\" d=\"M815.33,-160.98C852.15,-150.58 894.87,-138.52 932.67,-127.84\"/>\n<polygon fill=\"black\" stroke=\"black\" points=\"934,-131.1 942.67,-125.01 932.1,-124.36 934,-131.1\"/>\n</g>\n<!-- 131616 -->\n<g id=\"node11\" class=\"node\">\n<title>131616</title>\n<polygon fill=\"#c0c0c0\" stroke=\"black\" points=\"716,-36 662,-36 662,0 716,0 716,-36\"/>\n<text text-anchor=\"middle\" x=\"689\" y=\"-14.3\" font-family=\"Helvetica,sans-Serif\" font-size=\"14.00\">(...)</text>\n</g>\n<!-- 131615&#45;&gt;131616 -->\n<g id=\"edge10\" class=\"edge\">\n<title>131615&#45;&gt;131616</title>\n<path fill=\"none\" stroke=\"black\" d=\"M713.21,-71.8C709.34,-63.35 705.03,-53.95 701.13,-45.45\"/>\n<polygon fill=\"black\" stroke=\"black\" points=\"704.3,-43.96 696.95,-36.33 697.93,-46.88 704.3,-43.96\"/>\n</g>\n<!-- 131707 -->\n<g id=\"node12\" class=\"node\">\n<title>131707</title>\n<polygon fill=\"#c0c0c0\" stroke=\"black\" points=\"788,-36 734,-36 734,0 788,0 788,-36\"/>\n<text text-anchor=\"middle\" x=\"761\" y=\"-14.3\" font-family=\"Helvetica,sans-Serif\" font-size=\"14.00\">(...)</text>\n</g>\n<!-- 131615&#45;&gt;131707 -->\n<g id=\"edge11\" class=\"edge\">\n<title>131615&#45;&gt;131707</title>\n<path fill=\"none\" stroke=\"black\" d=\"M736.79,-71.8C740.66,-63.35 744.97,-53.95 748.87,-45.45\"/>\n<polygon fill=\"black\" stroke=\"black\" points=\"752.07,-46.88 753.05,-36.33 745.7,-43.96 752.07,-46.88\"/>\n</g>\n<!-- 131823 -->\n<g id=\"node14\" class=\"node\">\n<title>131823</title>\n<polygon fill=\"#c0c0c0\" stroke=\"black\" points=\"1024,-36 970,-36 970,0 1024,0 1024,-36\"/>\n<text text-anchor=\"middle\" x=\"997\" y=\"-14.3\" font-family=\"Helvetica,sans-Serif\" font-size=\"14.00\">(...)</text>\n</g>\n<!-- 131822&#45;&gt;131823 -->\n<g id=\"edge13\" class=\"edge\">\n<title>131822&#45;&gt;131823</title>\n<path fill=\"none\" stroke=\"black\" d=\"M1021.21,-71.8C1017.34,-63.35 1013.03,-53.95 1009.13,-45.45\"/>\n<polygon fill=\"black\" stroke=\"black\" points=\"1012.3,-43.96 1004.95,-36.33 1005.93,-46.88 1012.3,-43.96\"/>\n</g>\n<!-- 133644 -->\n<g id=\"node15\" class=\"node\">\n<title>133644</title>\n<polygon fill=\"#c0c0c0\" stroke=\"black\" points=\"1096,-36 1042,-36 1042,0 1096,0 1096,-36\"/>\n<text text-anchor=\"middle\" x=\"1069\" y=\"-14.3\" font-family=\"Helvetica,sans-Serif\" font-size=\"14.00\">(...)</text>\n</g>\n<!-- 131822&#45;&gt;133644 -->\n<g id=\"edge14\" class=\"edge\">\n<title>131822&#45;&gt;133644</title>\n<path fill=\"none\" stroke=\"black\" d=\"M1044.79,-71.8C1048.66,-63.35 1052.97,-53.95 1056.87,-45.45\"/>\n<polygon fill=\"black\" stroke=\"black\" points=\"1060.07,-46.88 1061.05,-36.33 1053.7,-43.96 1060.07,-46.88\"/>\n</g>\n</g>\n</svg>\n",
      "text/plain": "<graphviz.sources.Source at 0x25ca6278e80>"
     },
     "metadata": {},
     "output_type": "display_data"
    },
    {
     "name": "stdout",
     "output_type": "stream",
     "text": [
      "Drzewo nr # 3 / 100\n"
     ]
    },
    {
     "data": {
      "image/svg+xml": "<?xml version=\"1.0\" encoding=\"UTF-8\" standalone=\"no\"?>\n<!DOCTYPE svg PUBLIC \"-//W3C//DTD SVG 1.1//EN\"\n \"http://www.w3.org/Graphics/SVG/1.1/DTD/svg11.dtd\">\n<!-- Generated by graphviz version 2.50.0 (0)\n -->\n<!-- Title: Tree Pages: 1 -->\n<svg width=\"1130pt\" height=\"311pt\"\n viewBox=\"0.00 0.00 1129.50 311.00\" xmlns=\"http://www.w3.org/2000/svg\" xmlns:xlink=\"http://www.w3.org/1999/xlink\">\n<g id=\"graph0\" class=\"graph\" transform=\"scale(1 1) rotate(0) translate(4 307)\">\n<title>Tree</title>\n<polygon fill=\"white\" stroke=\"transparent\" points=\"-4,4 -4,-307 1125.5,-307 1125.5,4 -4,4\"/>\n<!-- 0 -->\n<g id=\"node1\" class=\"node\">\n<title>0</title>\n<polygon fill=\"#49e78b\" stroke=\"black\" points=\"746.5,-303 464.5,-303 464.5,-250 746.5,-250 746.5,-303\"/>\n<text text-anchor=\"middle\" x=\"605.5\" y=\"-287.8\" font-family=\"Helvetica,sans-Serif\" font-size=\"14.00\">queueSizeForward &lt;= 313.5</text>\n<text text-anchor=\"middle\" x=\"605.5\" y=\"-272.8\" font-family=\"Helvetica,sans-Serif\" font-size=\"14.00\">samples = 100.0%</text>\n<text text-anchor=\"middle\" x=\"605.5\" y=\"-257.8\" font-family=\"Helvetica,sans-Serif\" font-size=\"14.00\">value = [0.0, 0.043, 0.925, 0.016, 0.0, 0.015]</text>\n</g>\n<!-- 1 -->\n<g id=\"node2\" class=\"node\">\n<title>1</title>\n<polygon fill=\"#52e891\" stroke=\"black\" points=\"593,-214 318,-214 318,-161 593,-161 593,-214\"/>\n<text text-anchor=\"middle\" x=\"455.5\" y=\"-198.8\" font-family=\"Helvetica,sans-Serif\" font-size=\"14.00\">apiTime &lt;= 82.5</text>\n<text text-anchor=\"middle\" x=\"455.5\" y=\"-183.8\" font-family=\"Helvetica,sans-Serif\" font-size=\"14.00\">samples = 62.7%</text>\n<text text-anchor=\"middle\" x=\"455.5\" y=\"-168.8\" font-family=\"Helvetica,sans-Serif\" font-size=\"14.00\">value = [0.0, 0.069, 0.88, 0.025, 0.0, 0.025]</text>\n</g>\n<!-- 0&#45;&gt;1 -->\n<g id=\"edge1\" class=\"edge\">\n<title>0&#45;&gt;1</title>\n<path fill=\"none\" stroke=\"black\" d=\"M561.31,-249.87C544.75,-240.26 525.77,-229.25 508.49,-219.24\"/>\n<polygon fill=\"black\" stroke=\"black\" points=\"510.04,-216.09 499.64,-214.1 506.53,-222.14 510.04,-216.09\"/>\n<text text-anchor=\"middle\" x=\"506.06\" y=\"-234.56\" font-family=\"Helvetica,sans-Serif\" font-size=\"14.00\">True</text>\n</g>\n<!-- 137812 -->\n<g id=\"node9\" class=\"node\">\n<title>137812</title>\n<polygon fill=\"#39e581\" stroke=\"black\" points=\"866.5,-214 644.5,-214 644.5,-161 866.5,-161 866.5,-214\"/>\n<text text-anchor=\"middle\" x=\"755.5\" y=\"-198.8\" font-family=\"Helvetica,sans-Serif\" font-size=\"14.00\">queueSizeForward &lt;= 315.5</text>\n<text text-anchor=\"middle\" x=\"755.5\" y=\"-183.8\" font-family=\"Helvetica,sans-Serif\" font-size=\"14.00\">samples = 37.3%</text>\n<text text-anchor=\"middle\" x=\"755.5\" y=\"-168.8\" font-family=\"Helvetica,sans-Serif\" font-size=\"14.00\">value = [0.0, 0.0, 1.0, 0.0, 0.0, 0.0]</text>\n</g>\n<!-- 0&#45;&gt;137812 -->\n<g id=\"edge8\" class=\"edge\">\n<title>0&#45;&gt;137812</title>\n<path fill=\"none\" stroke=\"black\" d=\"M649.69,-249.87C666.25,-240.26 685.23,-229.25 702.51,-219.24\"/>\n<polygon fill=\"black\" stroke=\"black\" points=\"704.47,-222.14 711.36,-214.1 700.96,-216.09 704.47,-222.14\"/>\n<text text-anchor=\"middle\" x=\"704.94\" y=\"-234.56\" font-family=\"Helvetica,sans-Serif\" font-size=\"14.00\">False</text>\n</g>\n<!-- 2 -->\n<g id=\"node3\" class=\"node\">\n<title>2</title>\n<polygon fill=\"#44e788\" stroke=\"black\" points=\"281,-125 0,-125 0,-72 281,-72 281,-125\"/>\n<text text-anchor=\"middle\" x=\"140.5\" y=\"-109.8\" font-family=\"Helvetica,sans-Serif\" font-size=\"14.00\">traf_cpuUsage &lt;= 0.165</text>\n<text text-anchor=\"middle\" x=\"140.5\" y=\"-94.8\" font-family=\"Helvetica,sans-Serif\" font-size=\"14.00\">samples = 26.8%</text>\n<text text-anchor=\"middle\" x=\"140.5\" y=\"-79.8\" font-family=\"Helvetica,sans-Serif\" font-size=\"14.00\">value = [0.0, 0.043, 0.945, 0.011, 0.0, 0.001]</text>\n</g>\n<!-- 1&#45;&gt;2 -->\n<g id=\"edge2\" class=\"edge\">\n<title>1&#45;&gt;2</title>\n<path fill=\"none\" stroke=\"black\" d=\"M363.12,-160.98C325.3,-150.54 281.39,-138.41 242.62,-127.7\"/>\n<polygon fill=\"black\" stroke=\"black\" points=\"243.45,-124.3 232.88,-125.01 241.59,-131.05 243.45,-124.3\"/>\n</g>\n<!-- 42439 -->\n<g id=\"node6\" class=\"node\">\n<title>42439</title>\n<polygon fill=\"#5dea98\" stroke=\"black\" points=\"611.5,-125 299.5,-125 299.5,-72 611.5,-72 611.5,-125\"/>\n<text text-anchor=\"middle\" x=\"455.5\" y=\"-109.8\" font-family=\"Helvetica,sans-Serif\" font-size=\"14.00\">queueSizeBack &lt;= 3521.5</text>\n<text text-anchor=\"middle\" x=\"455.5\" y=\"-94.8\" font-family=\"Helvetica,sans-Serif\" font-size=\"14.00\">samples = 35.9%</text>\n<text text-anchor=\"middle\" x=\"455.5\" y=\"-79.8\" font-family=\"Helvetica,sans-Serif\" font-size=\"14.00\">value = [0.001, 0.089, 0.832, 0.036, 0.001, 0.042]</text>\n</g>\n<!-- 1&#45;&gt;42439 -->\n<g id=\"edge5\" class=\"edge\">\n<title>1&#45;&gt;42439</title>\n<path fill=\"none\" stroke=\"black\" d=\"M455.5,-160.87C455.5,-152.89 455.5,-143.93 455.5,-135.38\"/>\n<polygon fill=\"black\" stroke=\"black\" points=\"459,-135.25 455.5,-125.25 452,-135.25 459,-135.25\"/>\n</g>\n<!-- 3 -->\n<g id=\"node4\" class=\"node\">\n<title>3</title>\n<polygon fill=\"#c0c0c0\" stroke=\"black\" points=\"131.5,-36 77.5,-36 77.5,0 131.5,0 131.5,-36\"/>\n<text text-anchor=\"middle\" x=\"104.5\" y=\"-14.3\" font-family=\"Helvetica,sans-Serif\" font-size=\"14.00\">(...)</text>\n</g>\n<!-- 2&#45;&gt;3 -->\n<g id=\"edge3\" class=\"edge\">\n<title>2&#45;&gt;3</title>\n<path fill=\"none\" stroke=\"black\" d=\"M128.71,-71.8C124.84,-63.35 120.53,-53.95 116.63,-45.45\"/>\n<polygon fill=\"black\" stroke=\"black\" points=\"119.8,-43.96 112.45,-36.33 113.43,-46.88 119.8,-43.96\"/>\n</g>\n<!-- 15296 -->\n<g id=\"node5\" class=\"node\">\n<title>15296</title>\n<polygon fill=\"#c0c0c0\" stroke=\"black\" points=\"203.5,-36 149.5,-36 149.5,0 203.5,0 203.5,-36\"/>\n<text text-anchor=\"middle\" x=\"176.5\" y=\"-14.3\" font-family=\"Helvetica,sans-Serif\" font-size=\"14.00\">(...)</text>\n</g>\n<!-- 2&#45;&gt;15296 -->\n<g id=\"edge4\" class=\"edge\">\n<title>2&#45;&gt;15296</title>\n<path fill=\"none\" stroke=\"black\" d=\"M152.29,-71.8C156.16,-63.35 160.47,-53.95 164.37,-45.45\"/>\n<polygon fill=\"black\" stroke=\"black\" points=\"167.57,-46.88 168.55,-36.33 161.2,-43.96 167.57,-46.88\"/>\n</g>\n<!-- 42440 -->\n<g id=\"node7\" class=\"node\">\n<title>42440</title>\n<polygon fill=\"#c0c0c0\" stroke=\"black\" points=\"446.5,-36 392.5,-36 392.5,0 446.5,0 446.5,-36\"/>\n<text text-anchor=\"middle\" x=\"419.5\" y=\"-14.3\" font-family=\"Helvetica,sans-Serif\" font-size=\"14.00\">(...)</text>\n</g>\n<!-- 42439&#45;&gt;42440 -->\n<g id=\"edge6\" class=\"edge\">\n<title>42439&#45;&gt;42440</title>\n<path fill=\"none\" stroke=\"black\" d=\"M443.71,-71.8C439.84,-63.35 435.53,-53.95 431.63,-45.45\"/>\n<polygon fill=\"black\" stroke=\"black\" points=\"434.8,-43.96 427.45,-36.33 428.43,-46.88 434.8,-43.96\"/>\n</g>\n<!-- 102175 -->\n<g id=\"node8\" class=\"node\">\n<title>102175</title>\n<polygon fill=\"#c0c0c0\" stroke=\"black\" points=\"518.5,-36 464.5,-36 464.5,0 518.5,0 518.5,-36\"/>\n<text text-anchor=\"middle\" x=\"491.5\" y=\"-14.3\" font-family=\"Helvetica,sans-Serif\" font-size=\"14.00\">(...)</text>\n</g>\n<!-- 42439&#45;&gt;102175 -->\n<g id=\"edge7\" class=\"edge\">\n<title>42439&#45;&gt;102175</title>\n<path fill=\"none\" stroke=\"black\" d=\"M467.29,-71.8C471.16,-63.35 475.47,-53.95 479.37,-45.45\"/>\n<polygon fill=\"black\" stroke=\"black\" points=\"482.57,-46.88 483.55,-36.33 476.2,-43.96 482.57,-46.88\"/>\n</g>\n<!-- 137813 -->\n<g id=\"node10\" class=\"node\">\n<title>137813</title>\n<polygon fill=\"#40e686\" stroke=\"black\" points=\"881.5,-125 629.5,-125 629.5,-72 881.5,-72 881.5,-125\"/>\n<text text-anchor=\"middle\" x=\"755.5\" y=\"-109.8\" font-family=\"Helvetica,sans-Serif\" font-size=\"14.00\">st_cpuUsage &lt;= 0.2</text>\n<text text-anchor=\"middle\" x=\"755.5\" y=\"-94.8\" font-family=\"Helvetica,sans-Serif\" font-size=\"14.00\">samples = 0.0%</text>\n<text text-anchor=\"middle\" x=\"755.5\" y=\"-79.8\" font-family=\"Helvetica,sans-Serif\" font-size=\"14.00\">value = [0.0, 0.034, 0.966, 0.0, 0.0, 0.0]</text>\n</g>\n<!-- 137812&#45;&gt;137813 -->\n<g id=\"edge9\" class=\"edge\">\n<title>137812&#45;&gt;137813</title>\n<path fill=\"none\" stroke=\"black\" d=\"M755.5,-160.87C755.5,-152.89 755.5,-143.93 755.5,-135.38\"/>\n<polygon fill=\"black\" stroke=\"black\" points=\"759,-135.25 755.5,-125.25 752,-135.25 759,-135.25\"/>\n</g>\n<!-- 137816 -->\n<g id=\"node13\" class=\"node\">\n<title>137816</title>\n<polygon fill=\"#39e581\" stroke=\"black\" points=\"1121.5,-117.5 899.5,-117.5 899.5,-79.5 1121.5,-79.5 1121.5,-117.5\"/>\n<text text-anchor=\"middle\" x=\"1010.5\" y=\"-102.3\" font-family=\"Helvetica,sans-Serif\" font-size=\"14.00\">samples = 37.3%</text>\n<text text-anchor=\"middle\" x=\"1010.5\" y=\"-87.3\" font-family=\"Helvetica,sans-Serif\" font-size=\"14.00\">value = [0.0, 0.0, 1.0, 0.0, 0.0, 0.0]</text>\n</g>\n<!-- 137812&#45;&gt;137816 -->\n<g id=\"edge12\" class=\"edge\">\n<title>137812&#45;&gt;137816</title>\n<path fill=\"none\" stroke=\"black\" d=\"M830.29,-160.98C867.63,-148.24 912.3,-133.01 947.82,-120.89\"/>\n<polygon fill=\"black\" stroke=\"black\" points=\"949.25,-124.1 957.58,-117.55 946.99,-117.47 949.25,-124.1\"/>\n</g>\n<!-- 137814 -->\n<g id=\"node11\" class=\"node\">\n<title>137814</title>\n<polygon fill=\"#c0c0c0\" stroke=\"black\" points=\"746.5,-36 692.5,-36 692.5,0 746.5,0 746.5,-36\"/>\n<text text-anchor=\"middle\" x=\"719.5\" y=\"-14.3\" font-family=\"Helvetica,sans-Serif\" font-size=\"14.00\">(...)</text>\n</g>\n<!-- 137813&#45;&gt;137814 -->\n<g id=\"edge10\" class=\"edge\">\n<title>137813&#45;&gt;137814</title>\n<path fill=\"none\" stroke=\"black\" d=\"M743.71,-71.8C739.84,-63.35 735.53,-53.95 731.63,-45.45\"/>\n<polygon fill=\"black\" stroke=\"black\" points=\"734.8,-43.96 727.45,-36.33 728.43,-46.88 734.8,-43.96\"/>\n</g>\n<!-- 137815 -->\n<g id=\"node12\" class=\"node\">\n<title>137815</title>\n<polygon fill=\"#c0c0c0\" stroke=\"black\" points=\"818.5,-36 764.5,-36 764.5,0 818.5,0 818.5,-36\"/>\n<text text-anchor=\"middle\" x=\"791.5\" y=\"-14.3\" font-family=\"Helvetica,sans-Serif\" font-size=\"14.00\">(...)</text>\n</g>\n<!-- 137813&#45;&gt;137815 -->\n<g id=\"edge11\" class=\"edge\">\n<title>137813&#45;&gt;137815</title>\n<path fill=\"none\" stroke=\"black\" d=\"M767.29,-71.8C771.16,-63.35 775.47,-53.95 779.37,-45.45\"/>\n<polygon fill=\"black\" stroke=\"black\" points=\"782.57,-46.88 783.55,-36.33 776.2,-43.96 782.57,-46.88\"/>\n</g>\n</g>\n</svg>\n",
      "text/plain": "<graphviz.sources.Source at 0x25ca6200be0>"
     },
     "metadata": {},
     "output_type": "display_data"
    }
   ],
   "source": [
    "for i in range(3):\n",
    "    tree = model.estimators_[i]\n",
    "    tree_data = export_graphviz(tree,\n",
    "                               feature_names=X_train.columns,\n",
    "                               filled=True,\n",
    "                               max_depth=2,\n",
    "                               impurity=False,\n",
    "                               proportion=True)\n",
    "    graph = graphviz.Source(tree_data)\n",
    "    print(\"Drzewo nr #\", i+1, \"/\", model.n_estimators)\n",
    "    display(graph)"
   ],
   "metadata": {
    "collapsed": false,
    "pycharm": {
     "name": "#%%\n"
    }
   }
  },
  {
   "cell_type": "markdown",
   "source": [
    "Confusion matrix of predictions"
   ],
   "metadata": {
    "collapsed": false,
    "pycharm": {
     "name": "#%% md\n"
    }
   }
  },
  {
   "cell_type": "code",
   "execution_count": 12,
   "outputs": [
    {
     "data": {
      "text/plain": "<Figure size 720x720 with 2 Axes>",
      "image/png": "[encoded data removed]"
     },
     "metadata": {},
     "output_type": "display_data"
    }
   ],
   "source": [
    "\n",
    "cm = confusion_matrix(Y_test, predictions)\n",
    "disp = ConfusionMatrixDisplay(confusion_matrix=cm)\n",
    "fig, ax = plt.subplots(figsize=(10,10))\n",
    "disp.plot(ax=ax)\n",
    "\n",
    "plt.rc('font', size=18)\n",
    "plt.show()"
   ],
   "metadata": {
    "collapsed": false,
    "pycharm": {
     "name": "#%%\n"
    }
   }
  },
  {
   "cell_type": "code",
   "execution_count": null,
   "outputs": [],
   "source": [],
   "metadata": {
    "collapsed": false,
    "pycharm": {
     "name": "#%%\n"
    }
   }
  }
 ],
 "metadata": {
  "kernelspec": {
   "display_name": "Python 3 (ipykernel)",
   "language": "python",
   "name": "python3"
  },
  "language_info": {
   "codemirror_mode": {
    "name": "ipython",
    "version": 3
   },
   "file_extension": ".py",
   "mimetype": "text/x-python",
   "name": "python",
   "nbconvert_exporter": "python",
   "pygments_lexer": "ipython3",
   "version": "3.9.12"
  }
 },
 "nbformat": 4,
 "nbformat_minor": 1
}